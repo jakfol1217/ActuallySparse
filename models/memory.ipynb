{
 "cells": [
  {
   "cell_type": "code",
   "execution_count": null,
   "outputs": [],
   "source": [
    "import os\n",
    "import sys\n",
    "module_path = os.path.abspath(os.path.join('..'))\n",
    "if module_path not in sys.path:\n",
    "    sys.path.append(module_path)"
   ],
   "metadata": {
    "collapsed": false
   }
  },
  {
   "cell_type": "code",
   "execution_count": 1,
   "outputs": [
    {
     "name": "stdout",
     "output_type": "stream",
     "text": [
      "\n",
      "\n",
      "\n",
      "\n"
     ]
    },
    {
     "data": {
      "text/plain": "## dense_classifier\n\nactive_bytes reserved_bytes line code                                                    \n         all            all                                                              \n        peak           peak                                                              \n      35.22M        126.00M   20 def dense_classifier():                                 \n       0.00B        126.00M   21     print()                                             \n     107.41M        126.00M   22     very_pruned = model_loader_very_pruned().classifier \n      72.19M        126.00M   23     return very_pruned                                  \n\n\n## very_pruned_classifier_coo\n\nactive_bytes reserved_bytes line code                                                                                                         \n         all            all                                                                                                                   \n        peak           peak                                                                                                                   \n      36.51M        492.00M   25 def very_pruned_classifier_coo():                                                                            \n       0.00B        492.00M   26     print()                                                                                                  \n     397.31M        492.00M   27     very_pruned_coo = converter.convert_model(model_loader_very_pruned(), torch.nn.Linear, \"coo\").classifier \n       4.08M        492.00M   28     return very_pruned_coo                                                                                   \n\n\n## features\n\nactive_bytes reserved_bytes line code                                             \n         all            all                                                       \n        peak           peak                                                       \n       0.00B          0.00B   15 def features():                                  \n       0.00B          0.00B   16     print()                                      \n     107.41M        126.00M   17     very_pruned = model_loader_pruned().features \n      35.22M        126.00M   18     return very_pruned                           \n\n\n## pruned_classifier_coo\n\nactive_bytes reserved_bytes line code                                                                                                    \n         all            all                                                                                                              \n        peak           peak                                                                                                              \n      72.19M        126.00M   30 def pruned_classifier_coo():                                                                            \n       0.00B        126.00M   31     print()                                                                                             \n     458.43M        492.00M   32     very_pruned_coo = converter.convert_model(model_loader_pruned(), torch.nn.Linear, \"coo\").classifier \n      36.51M        492.00M   33     return very_pruned_coo                                                                              ",
      "text/html": "<h3><span style=\"font-family: monospace\">dense_classifier</span></h3><div><style type=\"text/css\">\n#T_16c8a th {\n  text-align: left;\n}\n#T_16c8a_row0_col0 {\n  width: 10em;\n  background: linear-gradient(90deg, #4878d0 7.6%, transparent 7.6%);\n}\n#T_16c8a_row0_col1, #T_16c8a_row1_col1, #T_16c8a_row2_col1, #T_16c8a_row3_col1 {\n  width: 10em;\n  background: linear-gradient(90deg, #ee854a 25.4%, transparent 25.4%);\n}\n#T_16c8a_row0_col3, #T_16c8a_row1_col3, #T_16c8a_row2_col3, #T_16c8a_row3_col3 {\n  text-align: left;\n  white-space: pre;\n  font-family: monospace;\n}\n#T_16c8a_row1_col0 {\n  width: 10em;\n}\n#T_16c8a_row2_col0 {\n  width: 10em;\n  background: linear-gradient(90deg, #4878d0 23.2%, transparent 23.2%);\n}\n#T_16c8a_row3_col0 {\n  width: 10em;\n  background: linear-gradient(90deg, #4878d0 15.6%, transparent 15.6%);\n}\n</style>\n<table id=\"T_16c8a\">\n  <thead>\n    <tr>\n      <th id=\"T_16c8a_level0_col0\" class=\"col_heading level0 col0\" >active_bytes</th>\n      <th id=\"T_16c8a_level0_col1\" class=\"col_heading level0 col1\" >reserved_bytes</th>\n      <th id=\"T_16c8a_level0_col2\" class=\"col_heading level0 col2\" >line</th>\n      <th id=\"T_16c8a_level0_col3\" class=\"col_heading level0 col3\" >code</th>\n    </tr>\n    <tr>\n      <th id=\"T_16c8a_level1_col0\" class=\"col_heading level1 col0\" >all</th>\n      <th id=\"T_16c8a_level1_col1\" class=\"col_heading level1 col1\" >all</th>\n      <th id=\"T_16c8a_level1_col2\" class=\"col_heading level1 col2\" ></th>\n      <th id=\"T_16c8a_level1_col3\" class=\"col_heading level1 col3\" ></th>\n    </tr>\n    <tr>\n      <th id=\"T_16c8a_level2_col0\" class=\"col_heading level2 col0\" >peak</th>\n      <th id=\"T_16c8a_level2_col1\" class=\"col_heading level2 col1\" >peak</th>\n      <th id=\"T_16c8a_level2_col2\" class=\"col_heading level2 col2\" ></th>\n      <th id=\"T_16c8a_level2_col3\" class=\"col_heading level2 col3\" ></th>\n    </tr>\n  </thead>\n  <tbody>\n    <tr>\n      <td id=\"T_16c8a_row0_col0\" class=\"data row0 col0\" >35.22M</td>\n      <td id=\"T_16c8a_row0_col1\" class=\"data row0 col1\" >126.00M</td>\n      <td id=\"T_16c8a_row0_col2\" class=\"data row0 col2\" >20</td>\n      <td id=\"T_16c8a_row0_col3\" class=\"data row0 col3\" >def dense_classifier():\n</td>\n    </tr>\n    <tr>\n      <td id=\"T_16c8a_row1_col0\" class=\"data row1 col0\" >0.00B</td>\n      <td id=\"T_16c8a_row1_col1\" class=\"data row1 col1\" >126.00M</td>\n      <td id=\"T_16c8a_row1_col2\" class=\"data row1 col2\" >21</td>\n      <td id=\"T_16c8a_row1_col3\" class=\"data row1 col3\" >    print()\n</td>\n    </tr>\n    <tr>\n      <td id=\"T_16c8a_row2_col0\" class=\"data row2 col0\" >107.41M</td>\n      <td id=\"T_16c8a_row2_col1\" class=\"data row2 col1\" >126.00M</td>\n      <td id=\"T_16c8a_row2_col2\" class=\"data row2 col2\" >22</td>\n      <td id=\"T_16c8a_row2_col3\" class=\"data row2 col3\" >    very_pruned = model_loader_very_pruned().classifier\n</td>\n    </tr>\n    <tr>\n      <td id=\"T_16c8a_row3_col0\" class=\"data row3 col0\" >72.19M</td>\n      <td id=\"T_16c8a_row3_col1\" class=\"data row3 col1\" >126.00M</td>\n      <td id=\"T_16c8a_row3_col2\" class=\"data row3 col2\" >23</td>\n      <td id=\"T_16c8a_row3_col3\" class=\"data row3 col3\" >    return very_pruned\n</td>\n    </tr>\n  </tbody>\n</table>\n</div>\n<h3><span style=\"font-family: monospace\">very_pruned_classifier_coo</span></h3><div><style type=\"text/css\">\n#T_eff70 th {\n  text-align: left;\n}\n#T_eff70_row0_col0 {\n  width: 10em;\n  background: linear-gradient(90deg, #4878d0 7.9%, transparent 7.9%);\n}\n#T_eff70_row0_col1, #T_eff70_row1_col1, #T_eff70_row2_col1, #T_eff70_row3_col1 {\n  width: 10em;\n  background: linear-gradient(90deg, #ee854a 99.0%, transparent 99.0%);\n}\n#T_eff70_row0_col3, #T_eff70_row1_col3, #T_eff70_row2_col3, #T_eff70_row3_col3 {\n  text-align: left;\n  white-space: pre;\n  font-family: monospace;\n}\n#T_eff70_row1_col0 {\n  width: 10em;\n}\n#T_eff70_row2_col0 {\n  width: 10em;\n  background: linear-gradient(90deg, #4878d0 85.8%, transparent 85.8%);\n}\n#T_eff70_row3_col0 {\n  width: 10em;\n  background: linear-gradient(90deg, #4878d0 0.9%, transparent 0.9%);\n}\n</style>\n<table id=\"T_eff70\">\n  <thead>\n    <tr>\n      <th id=\"T_eff70_level0_col0\" class=\"col_heading level0 col0\" >active_bytes</th>\n      <th id=\"T_eff70_level0_col1\" class=\"col_heading level0 col1\" >reserved_bytes</th>\n      <th id=\"T_eff70_level0_col2\" class=\"col_heading level0 col2\" >line</th>\n      <th id=\"T_eff70_level0_col3\" class=\"col_heading level0 col3\" >code</th>\n    </tr>\n    <tr>\n      <th id=\"T_eff70_level1_col0\" class=\"col_heading level1 col0\" >all</th>\n      <th id=\"T_eff70_level1_col1\" class=\"col_heading level1 col1\" >all</th>\n      <th id=\"T_eff70_level1_col2\" class=\"col_heading level1 col2\" ></th>\n      <th id=\"T_eff70_level1_col3\" class=\"col_heading level1 col3\" ></th>\n    </tr>\n    <tr>\n      <th id=\"T_eff70_level2_col0\" class=\"col_heading level2 col0\" >peak</th>\n      <th id=\"T_eff70_level2_col1\" class=\"col_heading level2 col1\" >peak</th>\n      <th id=\"T_eff70_level2_col2\" class=\"col_heading level2 col2\" ></th>\n      <th id=\"T_eff70_level2_col3\" class=\"col_heading level2 col3\" ></th>\n    </tr>\n  </thead>\n  <tbody>\n    <tr>\n      <td id=\"T_eff70_row0_col0\" class=\"data row0 col0\" >36.51M</td>\n      <td id=\"T_eff70_row0_col1\" class=\"data row0 col1\" >492.00M</td>\n      <td id=\"T_eff70_row0_col2\" class=\"data row0 col2\" >25</td>\n      <td id=\"T_eff70_row0_col3\" class=\"data row0 col3\" >def very_pruned_classifier_coo():\n</td>\n    </tr>\n    <tr>\n      <td id=\"T_eff70_row1_col0\" class=\"data row1 col0\" >0.00B</td>\n      <td id=\"T_eff70_row1_col1\" class=\"data row1 col1\" >492.00M</td>\n      <td id=\"T_eff70_row1_col2\" class=\"data row1 col2\" >26</td>\n      <td id=\"T_eff70_row1_col3\" class=\"data row1 col3\" >    print()\n</td>\n    </tr>\n    <tr>\n      <td id=\"T_eff70_row2_col0\" class=\"data row2 col0\" >397.31M</td>\n      <td id=\"T_eff70_row2_col1\" class=\"data row2 col1\" >492.00M</td>\n      <td id=\"T_eff70_row2_col2\" class=\"data row2 col2\" >27</td>\n      <td id=\"T_eff70_row2_col3\" class=\"data row2 col3\" >    very_pruned_coo = converter.convert_model(model_loader_very_pruned(), torch.nn.Linear, \"coo\").classifier\n</td>\n    </tr>\n    <tr>\n      <td id=\"T_eff70_row3_col0\" class=\"data row3 col0\" >4.08M</td>\n      <td id=\"T_eff70_row3_col1\" class=\"data row3 col1\" >492.00M</td>\n      <td id=\"T_eff70_row3_col2\" class=\"data row3 col2\" >28</td>\n      <td id=\"T_eff70_row3_col3\" class=\"data row3 col3\" >    return very_pruned_coo\n</td>\n    </tr>\n  </tbody>\n</table>\n</div>\n<h3><span style=\"font-family: monospace\">features</span></h3><div><style type=\"text/css\">\n#T_344ed th {\n  text-align: left;\n}\n#T_344ed_row0_col0, #T_344ed_row0_col1, #T_344ed_row1_col0, #T_344ed_row1_col1 {\n  width: 10em;\n}\n#T_344ed_row0_col3, #T_344ed_row1_col3, #T_344ed_row2_col3, #T_344ed_row3_col3 {\n  text-align: left;\n  white-space: pre;\n  font-family: monospace;\n}\n#T_344ed_row2_col0 {\n  width: 10em;\n  background: linear-gradient(90deg, #4878d0 23.2%, transparent 23.2%);\n}\n#T_344ed_row2_col1, #T_344ed_row3_col1 {\n  width: 10em;\n  background: linear-gradient(90deg, #ee854a 25.4%, transparent 25.4%);\n}\n#T_344ed_row3_col0 {\n  width: 10em;\n  background: linear-gradient(90deg, #4878d0 7.6%, transparent 7.6%);\n}\n</style>\n<table id=\"T_344ed\">\n  <thead>\n    <tr>\n      <th id=\"T_344ed_level0_col0\" class=\"col_heading level0 col0\" >active_bytes</th>\n      <th id=\"T_344ed_level0_col1\" class=\"col_heading level0 col1\" >reserved_bytes</th>\n      <th id=\"T_344ed_level0_col2\" class=\"col_heading level0 col2\" >line</th>\n      <th id=\"T_344ed_level0_col3\" class=\"col_heading level0 col3\" >code</th>\n    </tr>\n    <tr>\n      <th id=\"T_344ed_level1_col0\" class=\"col_heading level1 col0\" >all</th>\n      <th id=\"T_344ed_level1_col1\" class=\"col_heading level1 col1\" >all</th>\n      <th id=\"T_344ed_level1_col2\" class=\"col_heading level1 col2\" ></th>\n      <th id=\"T_344ed_level1_col3\" class=\"col_heading level1 col3\" ></th>\n    </tr>\n    <tr>\n      <th id=\"T_344ed_level2_col0\" class=\"col_heading level2 col0\" >peak</th>\n      <th id=\"T_344ed_level2_col1\" class=\"col_heading level2 col1\" >peak</th>\n      <th id=\"T_344ed_level2_col2\" class=\"col_heading level2 col2\" ></th>\n      <th id=\"T_344ed_level2_col3\" class=\"col_heading level2 col3\" ></th>\n    </tr>\n  </thead>\n  <tbody>\n    <tr>\n      <td id=\"T_344ed_row0_col0\" class=\"data row0 col0\" >0.00B</td>\n      <td id=\"T_344ed_row0_col1\" class=\"data row0 col1\" >0.00B</td>\n      <td id=\"T_344ed_row0_col2\" class=\"data row0 col2\" >15</td>\n      <td id=\"T_344ed_row0_col3\" class=\"data row0 col3\" >def features():\n</td>\n    </tr>\n    <tr>\n      <td id=\"T_344ed_row1_col0\" class=\"data row1 col0\" >0.00B</td>\n      <td id=\"T_344ed_row1_col1\" class=\"data row1 col1\" >0.00B</td>\n      <td id=\"T_344ed_row1_col2\" class=\"data row1 col2\" >16</td>\n      <td id=\"T_344ed_row1_col3\" class=\"data row1 col3\" >    print()\n</td>\n    </tr>\n    <tr>\n      <td id=\"T_344ed_row2_col0\" class=\"data row2 col0\" >107.41M</td>\n      <td id=\"T_344ed_row2_col1\" class=\"data row2 col1\" >126.00M</td>\n      <td id=\"T_344ed_row2_col2\" class=\"data row2 col2\" >17</td>\n      <td id=\"T_344ed_row2_col3\" class=\"data row2 col3\" >    very_pruned = model_loader_pruned().features\n</td>\n    </tr>\n    <tr>\n      <td id=\"T_344ed_row3_col0\" class=\"data row3 col0\" >35.22M</td>\n      <td id=\"T_344ed_row3_col1\" class=\"data row3 col1\" >126.00M</td>\n      <td id=\"T_344ed_row3_col2\" class=\"data row3 col2\" >18</td>\n      <td id=\"T_344ed_row3_col3\" class=\"data row3 col3\" >    return very_pruned\n</td>\n    </tr>\n  </tbody>\n</table>\n</div>\n<h3><span style=\"font-family: monospace\">pruned_classifier_coo</span></h3><div><style type=\"text/css\">\n#T_4773f th {\n  text-align: left;\n}\n#T_4773f_row0_col0 {\n  width: 10em;\n  background: linear-gradient(90deg, #4878d0 15.6%, transparent 15.6%);\n}\n#T_4773f_row0_col1, #T_4773f_row1_col1 {\n  width: 10em;\n  background: linear-gradient(90deg, #ee854a 25.4%, transparent 25.4%);\n}\n#T_4773f_row0_col3, #T_4773f_row1_col3, #T_4773f_row2_col3, #T_4773f_row3_col3 {\n  text-align: left;\n  white-space: pre;\n  font-family: monospace;\n}\n#T_4773f_row1_col0 {\n  width: 10em;\n}\n#T_4773f_row2_col0 {\n  width: 10em;\n  background: linear-gradient(90deg, #4878d0 99.0%, transparent 99.0%);\n}\n#T_4773f_row2_col1, #T_4773f_row3_col1 {\n  width: 10em;\n  background: linear-gradient(90deg, #ee854a 99.0%, transparent 99.0%);\n}\n#T_4773f_row3_col0 {\n  width: 10em;\n  background: linear-gradient(90deg, #4878d0 7.9%, transparent 7.9%);\n}\n</style>\n<table id=\"T_4773f\">\n  <thead>\n    <tr>\n      <th id=\"T_4773f_level0_col0\" class=\"col_heading level0 col0\" >active_bytes</th>\n      <th id=\"T_4773f_level0_col1\" class=\"col_heading level0 col1\" >reserved_bytes</th>\n      <th id=\"T_4773f_level0_col2\" class=\"col_heading level0 col2\" >line</th>\n      <th id=\"T_4773f_level0_col3\" class=\"col_heading level0 col3\" >code</th>\n    </tr>\n    <tr>\n      <th id=\"T_4773f_level1_col0\" class=\"col_heading level1 col0\" >all</th>\n      <th id=\"T_4773f_level1_col1\" class=\"col_heading level1 col1\" >all</th>\n      <th id=\"T_4773f_level1_col2\" class=\"col_heading level1 col2\" ></th>\n      <th id=\"T_4773f_level1_col3\" class=\"col_heading level1 col3\" ></th>\n    </tr>\n    <tr>\n      <th id=\"T_4773f_level2_col0\" class=\"col_heading level2 col0\" >peak</th>\n      <th id=\"T_4773f_level2_col1\" class=\"col_heading level2 col1\" >peak</th>\n      <th id=\"T_4773f_level2_col2\" class=\"col_heading level2 col2\" ></th>\n      <th id=\"T_4773f_level2_col3\" class=\"col_heading level2 col3\" ></th>\n    </tr>\n  </thead>\n  <tbody>\n    <tr>\n      <td id=\"T_4773f_row0_col0\" class=\"data row0 col0\" >72.19M</td>\n      <td id=\"T_4773f_row0_col1\" class=\"data row0 col1\" >126.00M</td>\n      <td id=\"T_4773f_row0_col2\" class=\"data row0 col2\" >30</td>\n      <td id=\"T_4773f_row0_col3\" class=\"data row0 col3\" >def pruned_classifier_coo():\n</td>\n    </tr>\n    <tr>\n      <td id=\"T_4773f_row1_col0\" class=\"data row1 col0\" >0.00B</td>\n      <td id=\"T_4773f_row1_col1\" class=\"data row1 col1\" >126.00M</td>\n      <td id=\"T_4773f_row1_col2\" class=\"data row1 col2\" >31</td>\n      <td id=\"T_4773f_row1_col3\" class=\"data row1 col3\" >    print()\n</td>\n    </tr>\n    <tr>\n      <td id=\"T_4773f_row2_col0\" class=\"data row2 col0\" >458.43M</td>\n      <td id=\"T_4773f_row2_col1\" class=\"data row2 col1\" >492.00M</td>\n      <td id=\"T_4773f_row2_col2\" class=\"data row2 col2\" >32</td>\n      <td id=\"T_4773f_row2_col3\" class=\"data row2 col3\" >    very_pruned_coo = converter.convert_model(model_loader_pruned(), torch.nn.Linear, \"coo\").classifier\n</td>\n    </tr>\n    <tr>\n      <td id=\"T_4773f_row3_col0\" class=\"data row3 col0\" >36.51M</td>\n      <td id=\"T_4773f_row3_col1\" class=\"data row3 col1\" >492.00M</td>\n      <td id=\"T_4773f_row3_col2\" class=\"data row3 col2\" >33</td>\n      <td id=\"T_4773f_row3_col3\" class=\"data row3 col3\" >    return very_pruned_coo\n</td>\n    </tr>\n  </tbody>\n</table>\n</div>"
     },
     "execution_count": 1,
     "metadata": {},
     "output_type": "execute_result"
    }
   ],
   "source": [
    "import torch\n",
    "import pretrained\n",
    "import pytorch_memlab\n",
    "from actuallysparse import converter\n",
    "from tqdm import tqdm\n",
    "from warnings import filterwarnings\n",
    "\n",
    "filterwarnings(\"ignore\")\n",
    "\n",
    "device = \"cuda\" if torch.cuda.is_available() else \"cpu\"\n",
    "model_loader_very_pruned = lambda: torch.load(\".weights/full/very_pruned\").eval()\n",
    "model_loader_pruned = lambda: torch.load(\".weights/full/pruned\").eval()\n",
    "model_loader_pretrained = lambda: torch.load(\".weights/full/pretrained\").eval()\n",
    "\n",
    "def features():\n",
    "    print()\n",
    "    very_pruned = model_loader_pruned().features\n",
    "    return very_pruned\n",
    "\n",
    "def dense_classifier():\n",
    "    print()\n",
    "    very_pruned = model_loader_very_pruned().classifier\n",
    "    return very_pruned\n",
    "\n",
    "def very_pruned_classifier_coo():\n",
    "    print()\n",
    "    very_pruned_coo = converter.convert_model(model_loader_very_pruned(), torch.nn.Linear, \"coo\").classifier\n",
    "    return very_pruned_coo\n",
    "\n",
    "def pruned_classifier_coo():\n",
    "    print()\n",
    "    very_pruned_coo = converter.convert_model(model_loader_pruned(), torch.nn.Linear, \"coo\").classifier\n",
    "    return very_pruned_coo\n",
    "\n",
    "\n",
    "\n",
    "with pytorch_memlab.LineProfiler(\n",
    "        dense_classifier,\n",
    "        very_pruned_classifier_coo,\n",
    "        features,\n",
    "        pruned_classifier_coo\n",
    "    ) as prof:\n",
    "    features()\n",
    "    dense_classifier()\n",
    "    pruned_classifier_coo()\n",
    "    very_pruned_classifier_coo()\n",
    "\n",
    "prof.display()"
   ],
   "metadata": {
    "collapsed": false
   }
  },
  {
   "cell_type": "code",
   "execution_count": 3,
   "outputs": [
    {
     "name": "stdout",
     "output_type": "stream",
     "text": [
      "Files already downloaded and verified\n",
      "Files already downloaded and verified\n"
     ]
    }
   ],
   "source": [
    "def eval_accuracy(model, dataloader):\n",
    "    with torch.no_grad():\n",
    "        model.to(device)\n",
    "        correct = 0\n",
    "        all_so_far = 0\n",
    "        for inputs, labels in tqdm(dataloader):\n",
    "            inputs, labels = inputs.to(device), labels.to(device)\n",
    "            pred = torch.argmax(model(inputs), dim=1)\n",
    "\n",
    "            all_so_far += labels.size().numel()\n",
    "            correct += torch.sum(pred.eq(labels))\n",
    "    return correct/all_so_far\n",
    "\n",
    "_, dataloader_test = pretrained.load_cifar10_dataloaders()"
   ],
   "metadata": {
    "collapsed": false
   }
  },
  {
   "cell_type": "code",
   "execution_count": 13,
   "outputs": [
    {
     "name": "stderr",
     "output_type": "stream",
     "text": [
      "100%|██████████| 625/625 [00:09<00:00, 66.45it/s]\n"
     ]
    },
    {
     "data": {
      "text/plain": "tensor(0.9074, device='cuda:0')"
     },
     "execution_count": 13,
     "metadata": {},
     "output_type": "execute_result"
    }
   ],
   "source": [
    "eval_accuracy(model_loader_pretrained(), dataloader_test)"
   ],
   "metadata": {
    "collapsed": false
   }
  },
  {
   "cell_type": "code",
   "execution_count": 14,
   "outputs": [
    {
     "name": "stderr",
     "output_type": "stream",
     "text": [
      "100%|██████████| 625/625 [00:09<00:00, 65.45it/s]\n"
     ]
    },
    {
     "data": {
      "text/plain": "tensor(0.8365, device='cuda:0')"
     },
     "execution_count": 14,
     "metadata": {},
     "output_type": "execute_result"
    }
   ],
   "source": [
    "eval_accuracy(model_loader_pruned(), dataloader_test)"
   ],
   "metadata": {
    "collapsed": false
   }
  },
  {
   "cell_type": "code",
   "execution_count": 15,
   "outputs": [
    {
     "name": "stderr",
     "output_type": "stream",
     "text": [
      "100%|██████████| 625/625 [00:09<00:00, 64.36it/s]\n"
     ]
    },
    {
     "data": {
      "text/plain": "tensor(0.7648, device='cuda:0')"
     },
     "execution_count": 15,
     "metadata": {},
     "output_type": "execute_result"
    }
   ],
   "source": [
    "eval_accuracy(model_loader_very_pruned(), dataloader_test)"
   ],
   "metadata": {
    "collapsed": false
   }
  },
  {
   "cell_type": "code",
   "execution_count": 7,
   "outputs": [],
   "source": [
    "dense = model_loader_very_pruned().to(device).eval()"
   ],
   "metadata": {
    "collapsed": false
   }
  },
  {
   "cell_type": "code",
   "execution_count": 8,
   "outputs": [
    {
     "name": "stderr",
     "output_type": "stream",
     "text": [
      "100%|██████████| 625/625 [00:09<00:00, 66.61it/s]"
     ]
    },
    {
     "name": "stdout",
     "output_type": "stream",
     "text": [
      "CPU times: user 9.36 s, sys: 23.7 ms, total: 9.38 s\n",
      "Wall time: 9.39 s\n"
     ]
    },
    {
     "name": "stderr",
     "output_type": "stream",
     "text": [
      "\n"
     ]
    },
    {
     "data": {
      "text/plain": "tensor(0.7648, device='cuda:0')"
     },
     "execution_count": 8,
     "metadata": {},
     "output_type": "execute_result"
    }
   ],
   "source": [
    "%%time\n",
    "eval_accuracy(dense, dataloader_test)"
   ],
   "metadata": {
    "collapsed": false
   }
  },
  {
   "cell_type": "code",
   "execution_count": 11,
   "outputs": [],
   "source": [
    "dense_cpu = dense.cpu()"
   ],
   "metadata": {
    "collapsed": false
   }
  },
  {
   "cell_type": "code",
   "execution_count": 12,
   "outputs": [
    {
     "name": "stderr",
     "output_type": "stream",
     "text": [
      "100%|██████████| 625/625 [00:09<00:00, 64.50it/s]"
     ]
    },
    {
     "name": "stdout",
     "output_type": "stream",
     "text": [
      "CPU times: user 9.63 s, sys: 50.8 ms, total: 9.68 s\n",
      "Wall time: 9.72 s\n"
     ]
    },
    {
     "name": "stderr",
     "output_type": "stream",
     "text": [
      "\n"
     ]
    },
    {
     "data": {
      "text/plain": "tensor(0.7648, device='cuda:0')"
     },
     "execution_count": 12,
     "metadata": {},
     "output_type": "execute_result"
    }
   ],
   "source": [
    "%%time\n",
    "eval_accuracy(dense_cpu, dataloader_test)"
   ],
   "metadata": {
    "collapsed": false
   }
  },
  {
   "cell_type": "code",
   "execution_count": 16,
   "outputs": [],
   "source": [
    "coo = converter.convert_model(model_loader_pruned(), torch.nn.Linear, \"coo\").to(device)\n",
    "coo.train_mode = False # actually sparse"
   ],
   "metadata": {
    "collapsed": false
   }
  },
  {
   "cell_type": "code",
   "execution_count": 17,
   "outputs": [
    {
     "name": "stderr",
     "output_type": "stream",
     "text": [
      "100%|██████████| 625/625 [00:14<00:00, 42.99it/s]"
     ]
    },
    {
     "name": "stdout",
     "output_type": "stream",
     "text": [
      "CPU times: user 14.5 s, sys: 28.6 ms, total: 14.5 s\n",
      "Wall time: 14.5 s\n"
     ]
    },
    {
     "name": "stderr",
     "output_type": "stream",
     "text": [
      "\n"
     ]
    },
    {
     "data": {
      "text/plain": "tensor(0.8365, device='cuda:0')"
     },
     "execution_count": 17,
     "metadata": {},
     "output_type": "execute_result"
    }
   ],
   "source": [
    "%%time\n",
    "eval_accuracy(coo, dataloader_test)"
   ],
   "metadata": {
    "collapsed": false
   }
  },
  {
   "cell_type": "code",
   "execution_count": 18,
   "outputs": [],
   "source": [
    "coo_cpu = coo.cpu()"
   ],
   "metadata": {
    "collapsed": false
   }
  },
  {
   "cell_type": "code",
   "execution_count": 19,
   "outputs": [
    {
     "name": "stderr",
     "output_type": "stream",
     "text": [
      "100%|██████████| 625/625 [00:14<00:00, 42.96it/s]"
     ]
    },
    {
     "name": "stdout",
     "output_type": "stream",
     "text": [
      "CPU times: user 14.5 s, sys: 45 ms, total: 14.6 s\n",
      "Wall time: 14.6 s\n"
     ]
    },
    {
     "name": "stderr",
     "output_type": "stream",
     "text": [
      "\n"
     ]
    },
    {
     "data": {
      "text/plain": "tensor(0.8365, device='cuda:0')"
     },
     "execution_count": 19,
     "metadata": {},
     "output_type": "execute_result"
    }
   ],
   "source": [
    "%%time\n",
    "eval_accuracy(coo_cpu, dataloader_test)"
   ],
   "metadata": {
    "collapsed": false
   }
  },
  {
   "cell_type": "code",
   "execution_count": 20,
   "outputs": [],
   "source": [
    "coo = converter.convert_model(model_loader_very_pruned(), torch.nn.Linear, \"coo\").to(device)\n",
    "coo.train_mode = False # actually sparse"
   ],
   "metadata": {
    "collapsed": false
   }
  },
  {
   "cell_type": "code",
   "execution_count": 21,
   "outputs": [
    {
     "name": "stderr",
     "output_type": "stream",
     "text": [
      "100%|██████████| 625/625 [00:11<00:00, 55.18it/s]"
     ]
    },
    {
     "name": "stdout",
     "output_type": "stream",
     "text": [
      "CPU times: user 11.3 s, sys: 24.1 ms, total: 11.3 s\n",
      "Wall time: 11.3 s\n"
     ]
    },
    {
     "name": "stderr",
     "output_type": "stream",
     "text": [
      "\n"
     ]
    },
    {
     "data": {
      "text/plain": "tensor(0.7648, device='cuda:0')"
     },
     "execution_count": 21,
     "metadata": {},
     "output_type": "execute_result"
    }
   ],
   "source": [
    "%%time\n",
    "eval_accuracy(coo, dataloader_test)"
   ],
   "metadata": {
    "collapsed": false
   }
  },
  {
   "cell_type": "code",
   "execution_count": 22,
   "outputs": [],
   "source": [
    "coo_cpu = coo.cpu()"
   ],
   "metadata": {
    "collapsed": false
   }
  },
  {
   "cell_type": "code",
   "execution_count": 23,
   "outputs": [
    {
     "name": "stderr",
     "output_type": "stream",
     "text": [
      "100%|██████████| 625/625 [00:11<00:00, 55.22it/s]"
     ]
    },
    {
     "name": "stdout",
     "output_type": "stream",
     "text": [
      "CPU times: user 11.3 s, sys: 28.2 ms, total: 11.3 s\n",
      "Wall time: 11.3 s\n"
     ]
    },
    {
     "name": "stderr",
     "output_type": "stream",
     "text": [
      "\n"
     ]
    },
    {
     "data": {
      "text/plain": "tensor(0.7648, device='cuda:0')"
     },
     "execution_count": 23,
     "metadata": {},
     "output_type": "execute_result"
    }
   ],
   "source": [
    "%%time\n",
    "eval_accuracy(coo_cpu, dataloader_test)"
   ],
   "metadata": {
    "collapsed": false
   }
  },
  {
   "cell_type": "code",
   "execution_count": null,
   "outputs": [],
   "source": [],
   "metadata": {
    "collapsed": false
   }
  }
 ],
 "metadata": {
  "kernelspec": {
   "display_name": "Python 3",
   "language": "python",
   "name": "python3"
  },
  "language_info": {
   "codemirror_mode": {
    "name": "ipython",
    "version": 2
   },
   "file_extension": ".py",
   "mimetype": "text/x-python",
   "name": "python",
   "nbconvert_exporter": "python",
   "pygments_lexer": "ipython2",
   "version": "2.7.6"
  }
 },
 "nbformat": 4,
 "nbformat_minor": 0
}
