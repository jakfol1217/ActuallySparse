{
 "cells": [
  {
   "cell_type": "code",
   "execution_count": 6,
   "outputs": [],
   "source": [
    "import os\n",
    "import sys\n",
    "module_path = os.path.abspath(os.path.join('..'))\n",
    "if module_path not in sys.path:\n",
    "    sys.path.append(module_path)"
   ],
   "metadata": {
    "collapsed": false
   }
  },
  {
   "cell_type": "code",
   "execution_count": 7,
   "outputs": [],
   "source": [
    "import torch\n",
    "from actuallysparse import converter\n",
    "from warnings import filterwarnings\n",
    "from torch.autograd.profiler import profile\n",
    "\n",
    "filterwarnings(\"ignore\")\n",
    "\n",
    "device = \"cuda\" if torch.cuda.is_available() else \"cpu\"\n",
    "model_loader_very_pruned = lambda: torch.load(\"../.weights/full/very_pruned\", map_location=torch.device('cpu')).eval()\n",
    "model_loader_pruned = lambda: torch.load(\"../.weights/full/pruned\", map_location=torch.device('cpu')).eval()\n",
    "model_loader_pretrained = lambda: torch.load(\"../.weights/full/pretrained\", map_location=torch.device('cpu')).eval()"
   ],
   "metadata": {
    "collapsed": false
   }
  },
  {
   "cell_type": "code",
   "execution_count": 8,
   "outputs": [
    {
     "data": {
      "text/plain": "VGG(\n  (features): Sequential(\n    (0): Conv2d(3, 64, kernel_size=(3, 3), stride=(1, 1), padding=(1, 1))\n    (1): BatchNorm2d(64, eps=1e-05, momentum=0.1, affine=True, track_running_stats=True)\n    (2): ReLU(inplace=True)\n    (3): MaxPool2d(kernel_size=2, stride=2, padding=0, dilation=1, ceil_mode=False)\n    (4): Conv2d(64, 128, kernel_size=(3, 3), stride=(1, 1), padding=(1, 1))\n    (5): BatchNorm2d(128, eps=1e-05, momentum=0.1, affine=True, track_running_stats=True)\n    (6): ReLU(inplace=True)\n    (7): MaxPool2d(kernel_size=2, stride=2, padding=0, dilation=1, ceil_mode=False)\n    (8): Conv2d(128, 256, kernel_size=(3, 3), stride=(1, 1), padding=(1, 1))\n    (9): BatchNorm2d(256, eps=1e-05, momentum=0.1, affine=True, track_running_stats=True)\n    (10): ReLU(inplace=True)\n    (11): Conv2d(256, 256, kernel_size=(3, 3), stride=(1, 1), padding=(1, 1))\n    (12): BatchNorm2d(256, eps=1e-05, momentum=0.1, affine=True, track_running_stats=True)\n    (13): ReLU(inplace=True)\n    (14): MaxPool2d(kernel_size=2, stride=2, padding=0, dilation=1, ceil_mode=False)\n    (15): Conv2d(256, 512, kernel_size=(3, 3), stride=(1, 1), padding=(1, 1))\n    (16): BatchNorm2d(512, eps=1e-05, momentum=0.1, affine=True, track_running_stats=True)\n    (17): ReLU(inplace=True)\n    (18): Conv2d(512, 512, kernel_size=(3, 3), stride=(1, 1), padding=(1, 1))\n    (19): BatchNorm2d(512, eps=1e-05, momentum=0.1, affine=True, track_running_stats=True)\n    (20): ReLU(inplace=True)\n    (21): MaxPool2d(kernel_size=2, stride=2, padding=0, dilation=1, ceil_mode=False)\n    (22): Conv2d(512, 512, kernel_size=(3, 3), stride=(1, 1), padding=(1, 1))\n    (23): BatchNorm2d(512, eps=1e-05, momentum=0.1, affine=True, track_running_stats=True)\n    (24): ReLU(inplace=True)\n    (25): Conv2d(512, 512, kernel_size=(3, 3), stride=(1, 1), padding=(1, 1))\n    (26): BatchNorm2d(512, eps=1e-05, momentum=0.1, affine=True, track_running_stats=True)\n    (27): ReLU(inplace=True)\n    (28): MaxPool2d(kernel_size=2, stride=2, padding=0, dilation=1, ceil_mode=False)\n  )\n  (avgpool): AdaptiveAvgPool2d(output_size=(1, 1))\n  (classifier): Sequential(\n    (0): SparseLayer(in_features=512, out_features=4096, bias=True, csr_mode=False, k=0.05)\n    (1): ReLU(inplace=True)\n    (2): Dropout(p=0.5, inplace=False)\n    (3): SparseLayer(in_features=4096, out_features=4096, bias=True, csr_mode=False, k=0.05)\n    (4): ReLU(inplace=True)\n    (5): Dropout(p=0.5, inplace=False)\n    (6): SparseLayer(in_features=4096, out_features=10, bias=True, csr_mode=False, k=0.05)\n  )\n)"
     },
     "execution_count": 8,
     "metadata": {},
     "output_type": "execute_result"
    }
   ],
   "source": [
    "dummy_input = torch.ones(1,3,244,244)\n",
    "dense = model_loader_pruned().to(device).eval()\n",
    "coo = converter.convert_model(model_loader_pruned(), torch.nn.Linear, \"coo\").to(device)\n",
    "coo.train(False)"
   ],
   "metadata": {
    "collapsed": false
   }
  },
  {
   "cell_type": "code",
   "execution_count": 9,
   "outputs": [
    {
     "name": "stdout",
     "output_type": "stream",
     "text": [
      "---------------------------------  ------------  ------------  ------------  ------------  ------------  ------------  ------------  ------------  \n",
      "                             Name    Self CPU %      Self CPU   CPU total %     CPU total  CPU time avg       CPU Mem  Self CPU Mem    # of Calls  \n",
      "---------------------------------  ------------  ------------  ------------  ------------  ------------  ------------  ------------  ------------  \n",
      "                     aten::conv2d         0.04%      52.000us        81.50%     104.810ms      13.101ms      33.46 Mb           0 b             8  \n",
      "                aten::convolution         0.15%     194.000us        81.46%     104.758ms      13.095ms      33.46 Mb           0 b             8  \n",
      "               aten::_convolution         0.07%      95.000us        81.31%     104.564ms      13.070ms      33.46 Mb           0 b             8  \n",
      "         aten::mkldnn_convolution        81.05%     104.238ms        81.23%     104.469ms      13.059ms      33.46 Mb           0 b             8  \n",
      "                 aten::max_pool2d         0.02%      30.000us         8.50%      10.933ms       2.187ms      20.59 Mb           0 b             5  \n",
      "    aten::max_pool2d_with_indices         8.48%      10.903ms         8.48%      10.903ms       2.181ms      20.59 Mb      20.59 Mb             5  \n",
      "                 aten::batch_norm         0.03%      33.000us         4.50%       5.782ms     722.750us      33.46 Mb           0 b             8  \n",
      "     aten::_batch_norm_impl_index         0.08%      99.000us         4.47%       5.749ms     718.625us      33.46 Mb           0 b             8  \n",
      "          aten::native_batch_norm         4.25%       5.469ms         4.38%       5.628ms     703.500us      33.46 Mb    -471.50 Kb             8  \n",
      "                     aten::linear         0.01%      19.000us         2.89%       3.721ms       1.240ms      32.04 Kb           0 b             3  \n",
      "                      aten::addmm         2.81%       3.613ms         2.83%       3.645ms       1.215ms      32.04 Kb      32.04 Kb             3  \n",
      "                      aten::relu_         0.12%     152.000us         2.48%       3.194ms     319.400us           0 b           0 b            10  \n",
      "                 aten::clamp_min_         2.37%       3.042ms         2.37%       3.042ms     304.200us           0 b           0 b            10  \n",
      "                      aten::empty         0.28%     362.000us         0.28%     362.000us       5.656us      66.95 Mb      66.95 Mb            64  \n",
      "        aten::adaptive_avg_pool2d         0.00%       5.000us         0.12%     148.000us     148.000us       2.00 Kb           0 b             1  \n",
      "                       aten::mean         0.02%      20.000us         0.11%     143.000us     143.000us       2.00 Kb       2.00 Kb             1  \n",
      "                 aten::empty_like         0.02%      24.000us         0.10%     127.000us      15.875us      33.46 Mb     450.00 Kb             8  \n",
      "                        aten::sum         0.06%      79.000us         0.06%      83.000us      83.000us           0 b           0 b             1  \n",
      "                          aten::t         0.02%      32.000us         0.04%      57.000us      19.000us           0 b           0 b             3  \n",
      "                       aten::div_         0.01%      18.000us         0.03%      40.000us      40.000us           0 b          -4 b             1  \n",
      "---------------------------------  ------------  ------------  ------------  ------------  ------------  ------------  ------------  ------------  \n",
      "Self CPU time total: 128.602ms\n",
      "\n"
     ]
    }
   ],
   "source": [
    "with profile(profile_memory=True, record_shapes=True) as prof:\n",
    "        dense(dummy_input)\n",
    "\n",
    "print(prof.key_averages().table(sort_by=\"cpu_time_total\", row_limit=20))"
   ],
   "metadata": {
    "collapsed": false
   }
  },
  {
   "cell_type": "code",
   "execution_count": 10,
   "outputs": [
    {
     "name": "stdout",
     "output_type": "stream",
     "text": [
      "--------------------------------------------------  ------------  ------------  ------------  ------------  ------------  ------------  ------------  ------------  \n",
      "                                              Name    Self CPU %      Self CPU   CPU total %     CPU total  CPU time avg       CPU Mem  Self CPU Mem    # of Calls  \n",
      "--------------------------------------------------  ------------  ------------  ------------  ------------  ------------  ------------  ------------  ------------  \n",
      "                                      aten::conv2d         0.03%      62.000us        56.60%     109.471ms      13.684ms      33.46 Mb           0 b             8  \n",
      "                                 aten::convolution         0.10%     201.000us        56.57%     109.409ms      13.676ms      33.46 Mb           0 b             8  \n",
      "                                aten::_convolution         0.06%     109.000us        56.46%     109.208ms      13.651ms      33.46 Mb           0 b             8  \n",
      "                          aten::mkldnn_convolution        56.27%     108.845ms        56.41%     109.099ms      13.637ms      33.46 Mb           0 b             8  \n",
      "                                       SPARSE PASS         0.20%     394.000us        29.50%      57.058ms      19.019ms      32.03 Kb     -32.89 Kb             3  \n",
      "                                  aten::_sparse_mm         0.03%      54.000us        29.13%      56.345ms      18.782ms      32.04 Kb     -32.04 Kb             3  \n",
      "                               aten::_sparse_addmm         0.04%      87.000us        29.09%      56.270ms      18.757ms      32.04 Kb           0 b             3  \n",
      "                                       aten::addmm        29.04%      56.173ms        29.05%      56.183ms      18.728ms      32.04 Kb           0 b             3  \n",
      "                                  aten::max_pool2d         0.02%      37.000us         5.54%      10.713ms       2.143ms      20.59 Mb           0 b             5  \n",
      "                     aten::max_pool2d_with_indices         5.52%      10.676ms         5.52%      10.676ms       2.135ms      20.59 Mb      20.59 Mb             5  \n",
      "                           aten::sparse_coo_tensor         0.04%      84.000us         3.63%       7.018ms       2.339ms           0 b        -192 b             3  \n",
      "                                  aten::batch_norm         0.02%      34.000us         2.92%       5.643ms     705.375us      33.46 Mb           0 b             8  \n",
      "                      aten::_batch_norm_impl_index         0.04%      85.000us         2.90%       5.609ms     701.125us      33.46 Mb           0 b             8  \n",
      "                           aten::native_batch_norm         2.75%       5.325ms         2.84%       5.501ms     687.625us      33.46 Mb     -21.50 Kb             8  \n",
      "                                         aten::min         1.78%       3.448ms         1.80%       3.487ms       1.162ms          96 b          96 b             3  \n",
      "                                         aten::max         1.74%       3.356ms         1.75%       3.386ms       1.129ms          96 b          96 b             3  \n",
      "                                       aten::relu_         0.09%     171.000us         1.73%       3.345ms     334.500us           0 b           0 b            10  \n",
      "                                  aten::clamp_min_         1.64%       3.174ms         1.64%       3.174ms     317.400us           0 b           0 b            10  \n",
      "                                       aten::empty         0.22%     433.000us         0.22%     433.000us       5.280us      66.54 Mb      66.54 Mb            82  \n",
      "                                           aten::t         0.08%     152.000us         0.12%     232.000us      38.667us           0 b           0 b             6  \n",
      "--------------------------------------------------  ------------  ------------  ------------  ------------  ------------  ------------  ------------  ------------  \n",
      "Self CPU time total: 193.419ms\n",
      "\n"
     ]
    }
   ],
   "source": [
    "with profile(profile_memory=True, record_shapes=True) as prof:\n",
    "        coo(dummy_input)\n",
    "\n",
    "print(prof.key_averages().table(sort_by=\"cpu_time_total\", row_limit=20))"
   ],
   "metadata": {
    "collapsed": false
   }
  },
  {
   "cell_type": "code",
   "execution_count": 11,
   "outputs": [
    {
     "data": {
      "text/plain": "VGG(\n  (features): Sequential(\n    (0): Conv2d(3, 64, kernel_size=(3, 3), stride=(1, 1), padding=(1, 1))\n    (1): BatchNorm2d(64, eps=1e-05, momentum=0.1, affine=True, track_running_stats=True)\n    (2): ReLU(inplace=True)\n    (3): MaxPool2d(kernel_size=2, stride=2, padding=0, dilation=1, ceil_mode=False)\n    (4): Conv2d(64, 128, kernel_size=(3, 3), stride=(1, 1), padding=(1, 1))\n    (5): BatchNorm2d(128, eps=1e-05, momentum=0.1, affine=True, track_running_stats=True)\n    (6): ReLU(inplace=True)\n    (7): MaxPool2d(kernel_size=2, stride=2, padding=0, dilation=1, ceil_mode=False)\n    (8): Conv2d(128, 256, kernel_size=(3, 3), stride=(1, 1), padding=(1, 1))\n    (9): BatchNorm2d(256, eps=1e-05, momentum=0.1, affine=True, track_running_stats=True)\n    (10): ReLU(inplace=True)\n    (11): Conv2d(256, 256, kernel_size=(3, 3), stride=(1, 1), padding=(1, 1))\n    (12): BatchNorm2d(256, eps=1e-05, momentum=0.1, affine=True, track_running_stats=True)\n    (13): ReLU(inplace=True)\n    (14): MaxPool2d(kernel_size=2, stride=2, padding=0, dilation=1, ceil_mode=False)\n    (15): Conv2d(256, 512, kernel_size=(3, 3), stride=(1, 1), padding=(1, 1))\n    (16): BatchNorm2d(512, eps=1e-05, momentum=0.1, affine=True, track_running_stats=True)\n    (17): ReLU(inplace=True)\n    (18): Conv2d(512, 512, kernel_size=(3, 3), stride=(1, 1), padding=(1, 1))\n    (19): BatchNorm2d(512, eps=1e-05, momentum=0.1, affine=True, track_running_stats=True)\n    (20): ReLU(inplace=True)\n    (21): MaxPool2d(kernel_size=2, stride=2, padding=0, dilation=1, ceil_mode=False)\n    (22): Conv2d(512, 512, kernel_size=(3, 3), stride=(1, 1), padding=(1, 1))\n    (23): BatchNorm2d(512, eps=1e-05, momentum=0.1, affine=True, track_running_stats=True)\n    (24): ReLU(inplace=True)\n    (25): Conv2d(512, 512, kernel_size=(3, 3), stride=(1, 1), padding=(1, 1))\n    (26): BatchNorm2d(512, eps=1e-05, momentum=0.1, affine=True, track_running_stats=True)\n    (27): ReLU(inplace=True)\n    (28): MaxPool2d(kernel_size=2, stride=2, padding=0, dilation=1, ceil_mode=False)\n  )\n  (avgpool): AdaptiveAvgPool2d(output_size=(1, 1))\n  (classifier): Sequential(\n    (0): SparseLayer(in_features=512, out_features=4096, bias=True, csr_mode=False, k=0.05)\n    (1): ReLU(inplace=True)\n    (2): Dropout(p=0.5, inplace=False)\n    (3): SparseLayer(in_features=4096, out_features=4096, bias=True, csr_mode=False, k=0.05)\n    (4): ReLU(inplace=True)\n    (5): Dropout(p=0.5, inplace=False)\n    (6): SparseLayer(in_features=4096, out_features=10, bias=True, csr_mode=False, k=0.05)\n  )\n)"
     },
     "execution_count": 11,
     "metadata": {},
     "output_type": "execute_result"
    }
   ],
   "source": [
    "dense = model_loader_very_pruned().to(device).eval()\n",
    "coo = converter.convert_model(model_loader_very_pruned(), torch.nn.Linear, \"coo\").to(device)\n",
    "coo.train(False)"
   ],
   "metadata": {
    "collapsed": false
   }
  },
  {
   "cell_type": "code",
   "execution_count": 12,
   "outputs": [
    {
     "name": "stdout",
     "output_type": "stream",
     "text": [
      "---------------------------------  ------------  ------------  ------------  ------------  ------------  ------------  ------------  ------------  \n",
      "                             Name    Self CPU %      Self CPU   CPU total %     CPU total  CPU time avg       CPU Mem  Self CPU Mem    # of Calls  \n",
      "---------------------------------  ------------  ------------  ------------  ------------  ------------  ------------  ------------  ------------  \n",
      "                     aten::conv2d         0.04%      55.000us        81.71%     107.350ms      13.419ms      33.46 Mb           0 b             8  \n",
      "                aten::convolution         0.16%     209.000us        81.67%     107.295ms      13.412ms      33.46 Mb           0 b             8  \n",
      "               aten::_convolution         0.08%     103.000us        81.51%     107.086ms      13.386ms      33.46 Mb           0 b             8  \n",
      "         aten::mkldnn_convolution        81.26%     106.753ms        81.44%     106.983ms      13.373ms      33.46 Mb           0 b             8  \n",
      "                 aten::max_pool2d         0.03%      33.000us         8.59%      11.280ms       2.256ms      20.59 Mb           0 b             5  \n",
      "    aten::max_pool2d_with_indices         8.56%      11.247ms         8.56%      11.247ms       2.249ms      20.59 Mb      20.59 Mb             5  \n",
      "                 aten::batch_norm         0.02%      32.000us         4.81%       6.317ms     789.625us      33.46 Mb           0 b             8  \n",
      "     aten::_batch_norm_impl_index         0.07%      87.000us         4.78%       6.285ms     785.625us      33.46 Mb           0 b             8  \n",
      "          aten::native_batch_norm         4.57%       5.998ms         4.70%       6.176ms     772.000us      33.46 Mb     -20.50 Kb             8  \n",
      "                     aten::linear         0.01%      12.000us         2.36%       3.105ms       1.035ms      32.04 Kb           0 b             3  \n",
      "                      aten::relu_         0.10%     133.000us         2.36%       3.102ms     310.200us           0 b           0 b            10  \n",
      "                      aten::addmm         2.32%       3.045ms         2.33%       3.062ms       1.021ms      32.04 Kb      32.04 Kb             3  \n",
      "                 aten::clamp_min_         2.26%       2.969ms         2.26%       2.969ms     296.900us           0 b           0 b            10  \n",
      "                      aten::empty         0.30%     388.000us         0.30%     388.000us       6.062us      66.95 Mb      66.95 Mb            64  \n",
      "                 aten::empty_like         0.02%      21.000us         0.12%     152.000us      19.000us      33.46 Mb           0 b             8  \n",
      "        aten::adaptive_avg_pool2d         0.08%     106.000us         0.08%     106.000us     106.000us       2.00 Kb       2.00 Kb             1  \n",
      "                       aten::mean         0.01%      14.000us         0.08%     104.000us     104.000us       2.00 Kb       2.00 Kb             1  \n",
      "                        aten::sum         0.04%      47.000us         0.04%      50.000us      50.000us           0 b           0 b             1  \n",
      "                       aten::div_         0.01%      13.000us         0.03%      40.000us      40.000us           0 b          -4 b             1  \n",
      "                          aten::t         0.01%      17.000us         0.02%      31.000us      10.333us           0 b           0 b             3  \n",
      "---------------------------------  ------------  ------------  ------------  ------------  ------------  ------------  ------------  ------------  \n",
      "Self CPU time total: 131.372ms\n",
      "\n"
     ]
    }
   ],
   "source": [
    "coo.train(False)\n",
    "with profile(profile_memory=True, record_shapes=True) as prof:\n",
    "    dense(dummy_input)\n",
    "\n",
    "print(prof.key_averages().table(sort_by=\"cpu_time_total\", row_limit=20))"
   ],
   "metadata": {
    "collapsed": false
   }
  },
  {
   "cell_type": "code",
   "execution_count": 13,
   "outputs": [
    {
     "name": "stdout",
     "output_type": "stream",
     "text": [
      "--------------------------------------------------  ------------  ------------  ------------  ------------  ------------  ------------  ------------  ------------  \n",
      "                                              Name    Self CPU %      Self CPU   CPU total %     CPU total  CPU time avg       CPU Mem  Self CPU Mem    # of Calls  \n",
      "--------------------------------------------------  ------------  ------------  ------------  ------------  ------------  ------------  ------------  ------------  \n",
      "                                      aten::conv2d         0.04%      54.000us        82.45%     108.139ms      13.517ms      33.46 Mb           0 b             8  \n",
      "                                 aten::convolution         0.15%     192.000us        82.41%     108.085ms      13.511ms      33.46 Mb           0 b             8  \n",
      "                                aten::_convolution         0.08%     110.000us        82.26%     107.893ms      13.487ms      33.46 Mb           0 b             8  \n",
      "                          aten::mkldnn_convolution        82.01%     107.560ms        82.18%     107.783ms      13.473ms      33.46 Mb           0 b             8  \n",
      "                                  aten::max_pool2d         0.02%      26.000us         7.37%       9.667ms       1.933ms      20.59 Mb           0 b             5  \n",
      "                     aten::max_pool2d_with_indices         7.35%       9.641ms         7.35%       9.641ms       1.928ms      20.59 Mb      20.59 Mb             5  \n",
      "                                  aten::batch_norm         0.02%      31.000us         4.10%       5.374ms     671.750us      33.46 Mb           0 b             8  \n",
      "                      aten::_batch_norm_impl_index         0.06%      76.000us         4.07%       5.343ms     667.875us      33.46 Mb           0 b             8  \n",
      "                           aten::native_batch_norm         3.89%       5.097ms         4.00%       5.247ms     655.875us      33.46 Mb     -18.50 Kb             8  \n",
      "                                       SPARSE PASS         0.08%      99.000us         3.53%       4.631ms       1.544ms      32.03 Kb     -32.61 Kb             3  \n",
      "                                  aten::_sparse_mm         0.01%      12.000us         3.40%       4.456ms       1.485ms      32.04 Kb     -32.00 Kb             3  \n",
      "                               aten::_sparse_addmm         0.01%      19.000us         3.38%       4.431ms       1.477ms      32.00 Kb         -40 b             3  \n",
      "                                       aten::addmm         3.36%       4.407ms         3.36%       4.412ms       1.471ms      32.04 Kb     -16.00 Kb             3  \n",
      "                                       aten::relu_         0.10%     126.000us         2.04%       2.672ms     267.200us           0 b           0 b            10  \n",
      "                                  aten::clamp_min_         1.94%       2.546ms         1.94%       2.546ms     254.600us           0 b           0 b            10  \n",
      "                           aten::sparse_coo_tensor         0.02%      23.000us         0.43%     569.000us     189.667us           0 b        -192 b             3  \n",
      "                                       aten::empty         0.28%     366.000us         0.28%     366.000us       4.463us      66.98 Mb      66.98 Mb            82  \n",
      "                                         aten::min         0.20%     259.000us         0.21%     277.000us      92.333us          96 b          96 b             3  \n",
      "                                         aten::max         0.16%     216.000us         0.17%     228.000us      76.000us          96 b          96 b             3  \n",
      "                                  aten::empty_like         0.02%      23.000us         0.10%     126.000us      15.750us      33.46 Mb           0 b             8  \n",
      "--------------------------------------------------  ------------  ------------  ------------  ------------  ------------  ------------  ------------  ------------  \n",
      "Self CPU time total: 131.154ms\n",
      "\n"
     ]
    }
   ],
   "source": [
    "with profile(profile_memory=True, record_shapes=True) as prof:\n",
    "        coo(dummy_input)\n",
    "\n",
    "print(prof.key_averages().table(sort_by=\"cpu_time_total\", row_limit=20))"
   ],
   "metadata": {
    "collapsed": false
   }
  }
 ],
 "metadata": {
  "kernelspec": {
   "display_name": "Python 3",
   "language": "python",
   "name": "python3"
  },
  "language_info": {
   "codemirror_mode": {
    "name": "ipython",
    "version": 2
   },
   "file_extension": ".py",
   "mimetype": "text/x-python",
   "name": "python",
   "nbconvert_exporter": "python",
   "pygments_lexer": "ipython2",
   "version": "2.7.6"
  }
 },
 "nbformat": 4,
 "nbformat_minor": 0
}
