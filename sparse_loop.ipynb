{
 "cells": [
  {
   "cell_type": "code",
   "execution_count": 1,
   "metadata": {
    "collapsed": true
   },
   "outputs": [],
   "source": [
    "import torch\n",
    "import torchvision\n",
    "import pretrained\n",
    "from actuallysparse import converter"
   ]
  },
  {
   "cell_type": "code",
   "execution_count": 2,
   "outputs": [
    {
     "name": "stdout",
     "output_type": "stream",
     "text": [
      "Files already downloaded and verified\n",
      "Files already downloaded and verified\n"
     ]
    }
   ],
   "source": [
    "transform = torchvision.transforms.Compose([\n",
    "    torchvision.transforms.ToTensor(),\n",
    "    torchvision.transforms.Normalize((0.5, 0.5, 0.5), (0.5, 0.5, 0.5))\n",
    "])\n",
    "dataset_train = torchvision.datasets.CIFAR10(\".data\", download=True, transform=transform)\n",
    "dataloader_train = torch.utils.data.DataLoader(dataset_train, batch_size=16)\n",
    "dataset_test = torchvision.datasets.CIFAR10(\".data\", download=True, train=False, transform=transform)\n",
    "dataloader_test = torch.utils.data.DataLoader(dataset_test, batch_size=16)\n",
    "training_device = \"cpu\""
   ],
   "metadata": {
    "collapsed": false
   }
  },
  {
   "cell_type": "code",
   "execution_count": 3,
   "outputs": [],
   "source": [
    "very_pruned = torch.load(\".weights/full/very_pruned\").to(training_device).eval()"
   ],
   "metadata": {
    "collapsed": false
   }
  },
  {
   "cell_type": "code",
   "execution_count": 4,
   "outputs": [],
   "source": [
    "import copy\n",
    "with torch.no_grad():\n",
    "    very_pruned_coo = copy.deepcopy(very_pruned)\n",
    "\n",
    "    very_pruned_coo.classifier[0] =  converter.convert(very_pruned_coo.classifier[0], \"coo\")\n",
    "    very_pruned_coo.classifier[3] =  converter.convert(very_pruned_coo.classifier[3], \"coo\")\n",
    "    # very_pruned_coo.classifier[6] =  converter.convert(very_pruned_coo.classifier[6], \"coo\")"
   ],
   "metadata": {
    "collapsed": false
   }
  },
  {
   "cell_type": "code",
   "execution_count": 5,
   "outputs": [],
   "source": [
    "for inputs, labels in dataloader_test:\n",
    "    break"
   ],
   "metadata": {
    "collapsed": false
   }
  },
  {
   "cell_type": "code",
   "execution_count": 6,
   "outputs": [],
   "source": [
    "test_input =  inputs[1:3, :]"
   ],
   "metadata": {
    "collapsed": false
   }
  },
  {
   "cell_type": "code",
   "execution_count": 7,
   "outputs": [
    {
     "data": {
      "text/plain": "tensor([[0.3092, 0.5177, 0.1881, 0.1132, 1.0875, 0.2068, 0.2365, 0.0506, 1.9462,\n         0.9583],\n        [1.1969, 0.4866, 0.3137, 0.1361, 1.0605, 0.1905, 0.2581, 0.0570, 1.7939,\n         0.8596]], grad_fn=<AddmmBackward0>)"
     },
     "execution_count": 7,
     "metadata": {},
     "output_type": "execute_result"
    }
   ],
   "source": [
    "very_pruned(test_input)"
   ],
   "metadata": {
    "collapsed": false
   }
  },
  {
   "cell_type": "code",
   "execution_count": 8,
   "outputs": [
    {
     "data": {
      "text/plain": "tensor([[0.3092, 0.5177, 0.1881, 0.1132, 1.0875, 0.2068, 0.2365, 0.0506, 1.9462,\n         0.9583],\n        [1.1969, 0.4866, 0.3137, 0.1361, 1.0605, 0.1905, 0.2581, 0.0570, 1.7939,\n         0.8596]], grad_fn=<AddmmBackward0>)"
     },
     "execution_count": 8,
     "metadata": {},
     "output_type": "execute_result"
    }
   ],
   "source": [
    "very_pruned_coo(test_input)\n"
   ],
   "metadata": {
    "collapsed": false
   }
  },
  {
   "cell_type": "code",
   "execution_count": 9,
   "outputs": [],
   "source": [
    "test_feature = very_pruned.features(test_input).view(very_pruned.features(test_input).size(0), -1)"
   ],
   "metadata": {
    "collapsed": false
   }
  },
  {
   "cell_type": "code",
   "execution_count": 28,
   "outputs": [
    {
     "data": {
      "text/plain": "tensor([[0.0564, 0.0000, 0.0690,  ..., 0.0000, 0.0295, 0.0000],\n        [0.2134, 0.0000, 0.0660,  ..., 0.0000, 0.0250, 0.0000]])"
     },
     "execution_count": 28,
     "metadata": {},
     "output_type": "execute_result"
    }
   ],
   "source": [
    "with torch.no_grad():\n",
    "    x = test_feature\n",
    "    x = very_pruned.classifier[0](x)\n",
    "    x = very_pruned.classifier[1](x)\n",
    "    x = very_pruned.classifier[2](x)\n",
    "    x = very_pruned.classifier[3](x)\n",
    "\n",
    "x"
   ],
   "metadata": {
    "collapsed": false
   }
  },
  {
   "cell_type": "code",
   "execution_count": 29,
   "outputs": [],
   "source": [
    "very_pruned_coo.classifier[3].weight.data = very_pruned.classifier[3].weight.to_sparse_coo()"
   ],
   "metadata": {
    "collapsed": false
   }
  },
  {
   "cell_type": "code",
   "execution_count": 30,
   "outputs": [
    {
     "data": {
      "text/plain": "tensor([[0.0168, 0.0000, 0.1172,  ..., 0.0802, 0.0184, 0.0000],\n        [0.0280, 0.0000, 0.1167,  ..., 0.1072, 0.0247, 0.0000]])"
     },
     "execution_count": 30,
     "metadata": {},
     "output_type": "execute_result"
    }
   ],
   "source": [
    "with torch.no_grad():\n",
    "    x = test_feature\n",
    "    x = very_pruned_coo.classifier[0](x)\n",
    "    x = very_pruned_coo.classifier[1](x)\n",
    "    x = very_pruned_coo.classifier[2](x)\n",
    "    x = very_pruned_coo.classifier[3](x)\n",
    "\n",
    "x"
   ],
   "metadata": {
    "collapsed": false
   }
  },
  {
   "cell_type": "code",
   "execution_count": 31,
   "outputs": [
    {
     "data": {
      "text/plain": "SparseLayer(in_features=512, out_features=4096, bias=True, csr_mode=False, k=0.05)"
     },
     "execution_count": 31,
     "metadata": {},
     "output_type": "execute_result"
    }
   ],
   "source": [
    "very_pruned_coo.classifier[0]"
   ],
   "metadata": {
    "collapsed": false
   }
  },
  {
   "cell_type": "code",
   "execution_count": 32,
   "outputs": [
    {
     "data": {
      "text/plain": "Linear(in_features=4096, out_features=4096, bias=True)"
     },
     "execution_count": 32,
     "metadata": {},
     "output_type": "execute_result"
    }
   ],
   "source": [
    "very_pruned.classifier[3]"
   ],
   "metadata": {
    "collapsed": false
   }
  },
  {
   "cell_type": "code",
   "execution_count": 40,
   "outputs": [
    {
     "data": {
      "text/plain": "tensor([[0.2948, 0.0000, 0.0310,  ..., 0.0000, 0.1325, 0.0000]],\n       grad_fn=<AddmmBackward0>)"
     },
     "execution_count": 40,
     "metadata": {},
     "output_type": "execute_result"
    }
   ],
   "source": [
    "very_pruned.classifier[3].forward(torch.ones(1, 4096))"
   ],
   "metadata": {
    "collapsed": false
   }
  },
  {
   "cell_type": "code",
   "execution_count": 44,
   "outputs": [
    {
     "data": {
      "text/plain": "tensor([[0.1524, 0.0000, 0.3816,  ..., 0.4300, 0.2164, 0.0000]],\n       grad_fn=<AddBackward0>)"
     },
     "execution_count": 44,
     "metadata": {},
     "output_type": "execute_result"
    }
   ],
   "source": [
    "converter.convert(very_pruned.classifier[3], \"coo\").forward(torch.ones(1, 4096))"
   ],
   "metadata": {
    "collapsed": false
   }
  },
  {
   "cell_type": "code",
   "execution_count": null,
   "outputs": [],
   "source": [],
   "metadata": {
    "collapsed": false
   }
  }
 ],
 "metadata": {
  "kernelspec": {
   "display_name": "Python 3",
   "language": "python",
   "name": "python3"
  },
  "language_info": {
   "codemirror_mode": {
    "name": "ipython",
    "version": 2
   },
   "file_extension": ".py",
   "mimetype": "text/x-python",
   "name": "python",
   "nbconvert_exporter": "python",
   "pygments_lexer": "ipython2",
   "version": "2.7.6"
  }
 },
 "nbformat": 4,
 "nbformat_minor": 0
}
