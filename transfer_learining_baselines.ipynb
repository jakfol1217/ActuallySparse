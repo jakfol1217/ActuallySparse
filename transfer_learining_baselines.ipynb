{
 "cells": [
  {
   "cell_type": "code",
   "execution_count": 1,
   "metadata": {
    "collapsed": true
   },
   "outputs": [],
   "source": [
    "import pretrained\n",
    "import torch\n",
    "import torchvision\n",
    "import datetime\n",
    "from tqdm import tqdm"
   ]
  },
  {
   "cell_type": "code",
   "execution_count": 2,
   "outputs": [],
   "source": [
    "device = \"cuda\" if torch.cuda.is_available() else \"cpu\"\n",
    "torch.cuda.init()"
   ],
   "metadata": {
    "collapsed": false
   }
  },
  {
   "cell_type": "code",
   "execution_count": 3,
   "outputs": [],
   "source": [
    "def load_cifar100_dataloaders_with_validation():\n",
    "    transform = torchvision.transforms.Compose([\n",
    "        torchvision.transforms.ToTensor(),\n",
    "        torchvision.transforms.Normalize((0.4914, 0.4822, 0.4465), (0.2023, 0.1994, 0.2010))\n",
    "    ])\n",
    "    dataset_train = torchvision.datasets.CIFAR100(\".data\", download=True, transform=transform)\n",
    "    dataset_train, dataset_validation = torch.utils.data.random_split(dataset_train, [0.8, 0.2], torch.Generator().manual_seed(123))\n",
    "    dataloader_train = torch.utils.data.DataLoader(dataset_train, batch_size=16)\n",
    "    dataloader_validation = torch.utils.data.DataLoader(dataset_validation, batch_size=16)\n",
    "    dataset_test = torchvision.datasets.CIFAR100(\".data\", download=True, train=False, transform=transform)\n",
    "    dataloader_test = torch.utils.data.DataLoader(dataset_test, batch_size=16)\n",
    "    return dataloader_train, dataloader_validation, dataloader_test"
   ],
   "metadata": {
    "collapsed": false
   }
  },
  {
   "cell_type": "code",
   "execution_count": 4,
   "outputs": [],
   "source": [
    "def eval_accuracy(model, dataloader):\n",
    "    with torch.no_grad():\n",
    "        model.to(device)\n",
    "        correct = 0\n",
    "        all_so_far = 0\n",
    "        for inputs, labels in tqdm(dataloader):\n",
    "            inputs, labels = inputs.to(device), labels.to(device)\n",
    "            pred = torch.argmax(model(inputs), dim=1)\n",
    "\n",
    "            all_so_far += labels.size().numel()\n",
    "            correct += torch.sum(pred.eq(labels))\n",
    "    return correct/all_so_far"
   ],
   "metadata": {
    "collapsed": false
   }
  },
  {
   "cell_type": "code",
   "execution_count": 5,
   "outputs": [],
   "source": [
    "def fit_one_cycle(epochs, max_lr, model, dataloader_train, dataloader_test=None, name=None):\n",
    "    optimizer = torch.optim.Adam(model.parameters(), max_lr)\n",
    "    name = \"model\" if name is None else name\n",
    "\n",
    "    for epoch in range(epochs):\n",
    "        torch.cuda.empty_cache()\n",
    "        model.train()\n",
    "        print(f\"Epoch:{epoch + 1}\")\n",
    "        for inputs, labels in tqdm(dataloader_train):\n",
    "            optimizer.zero_grad()\n",
    "            inputs, labels = inputs.to(device), labels.to(device)\n",
    "            loss = torch.nn.functional.cross_entropy(model(inputs), labels)\n",
    "            loss.backward()\n",
    "            del inputs, labels\n",
    "            optimizer.step()\n",
    "\n",
    "        model.eval()\n",
    "        accuracy_train = eval_accuracy(model, dataloader_train)\n",
    "        accuracy_test = eval_accuracy(model, dataloader_test)\n",
    "\n",
    "        line = f\"{datetime.datetime.now().isoformat()}_train_{accuracy_train:.2f}_test_{accuracy_test:.2f}\"\n",
    "        print(line)\n",
    "        if epoch % 5 == 0:\n",
    "            torch.save(model, f\".weights/{name}/{line}\")"
   ],
   "metadata": {
    "collapsed": false
   }
  },
  {
   "cell_type": "code",
   "execution_count": 6,
   "outputs": [
    {
     "name": "stdout",
     "output_type": "stream",
     "text": [
      "Files already downloaded and verified\n",
      "Files already downloaded and verified\n"
     ]
    }
   ],
   "source": [
    "dataloader_cifar100_train, dataloader_cifar100_validation, dataloader_cifar100_test = load_cifar100_dataloaders_with_validation()"
   ],
   "metadata": {
    "collapsed": false
   }
  },
  {
   "cell_type": "code",
   "execution_count": 7,
   "outputs": [],
   "source": [
    "pretrained_model = torch.load(\".weights/full/pretrained\")\n",
    "pretrained_model.classifier[6] = torch.nn.Linear(in_features=4096, out_features=100)\n",
    "model_cifar100 = pretrained_model.to(device)\n",
    "del pretrained_model"
   ],
   "metadata": {
    "collapsed": false
   }
  },
  {
   "cell_type": "code",
   "execution_count": 13,
   "outputs": [
    {
     "name": "stdout",
     "output_type": "stream",
     "text": [
      "Epoch:1\n"
     ]
    },
    {
     "name": "stderr",
     "output_type": "stream",
     "text": [
      "100%|██████████| 2500/2500 [03:06<00:00, 13.39it/s]\n",
      "100%|██████████| 2500/2500 [00:36<00:00, 68.79it/s]\n",
      "100%|██████████| 625/625 [00:09<00:00, 68.72it/s]\n"
     ]
    },
    {
     "name": "stdout",
     "output_type": "stream",
     "text": [
      "2022-12-17T11:55:16.513814_train_0.69_test_0.31\n",
      "Epoch:2\n"
     ]
    },
    {
     "name": "stderr",
     "output_type": "stream",
     "text": [
      "100%|██████████| 2500/2500 [02:59<00:00, 13.89it/s]\n",
      "100%|██████████| 2500/2500 [00:36<00:00, 68.79it/s]\n",
      "100%|██████████| 625/625 [00:09<00:00, 68.74it/s]\n"
     ]
    },
    {
     "name": "stdout",
     "output_type": "stream",
     "text": [
      "2022-12-17T11:59:02.061671_train_0.70_test_0.31\n",
      "Epoch:3\n"
     ]
    },
    {
     "name": "stderr",
     "output_type": "stream",
     "text": [
      "100%|██████████| 2500/2500 [02:59<00:00, 13.92it/s]\n",
      "100%|██████████| 2500/2500 [00:36<00:00, 68.88it/s]\n",
      "100%|██████████| 625/625 [00:09<00:00, 69.00it/s]\n"
     ]
    },
    {
     "name": "stdout",
     "output_type": "stream",
     "text": [
      "2022-12-17T12:02:47.042773_train_0.67_test_0.31\n",
      "Epoch:4\n"
     ]
    },
    {
     "name": "stderr",
     "output_type": "stream",
     "text": [
      "100%|██████████| 2500/2500 [02:59<00:00, 13.96it/s]\n",
      "100%|██████████| 2500/2500 [00:36<00:00, 69.06it/s]\n",
      "100%|██████████| 625/625 [00:09<00:00, 69.05it/s]\n"
     ]
    },
    {
     "name": "stdout",
     "output_type": "stream",
     "text": [
      "2022-12-17T12:06:31.457545_train_0.70_test_0.31\n",
      "Epoch:5\n"
     ]
    },
    {
     "name": "stderr",
     "output_type": "stream",
     "text": [
      "100%|██████████| 2500/2500 [02:58<00:00, 13.99it/s]\n",
      "100%|██████████| 2500/2500 [00:33<00:00, 74.15it/s]\n",
      "100%|██████████| 625/625 [00:08<00:00, 74.22it/s]\n"
     ]
    },
    {
     "name": "stdout",
     "output_type": "stream",
     "text": [
      "2022-12-17T12:10:12.259336_train_0.70_test_0.31\n",
      "Epoch:6\n"
     ]
    },
    {
     "name": "stderr",
     "output_type": "stream",
     "text": [
      "100%|██████████| 2500/2500 [02:46<00:00, 15.03it/s]\n",
      "100%|██████████| 2500/2500 [00:33<00:00, 74.20it/s]\n",
      "100%|██████████| 625/625 [00:08<00:00, 70.04it/s]\n"
     ]
    },
    {
     "name": "stdout",
     "output_type": "stream",
     "text": [
      "2022-12-17T12:13:41.260013_train_0.67_test_0.30\n",
      "Epoch:7\n"
     ]
    },
    {
     "name": "stderr",
     "output_type": "stream",
     "text": [
      "100%|██████████| 2500/2500 [02:53<00:00, 14.40it/s]\n",
      "100%|██████████| 2500/2500 [00:35<00:00, 70.28it/s]\n",
      "100%|██████████| 625/625 [00:08<00:00, 70.19it/s]\n"
     ]
    },
    {
     "name": "stdout",
     "output_type": "stream",
     "text": [
      "2022-12-17T12:17:19.524339_train_0.70_test_0.31\n",
      "Epoch:8\n"
     ]
    },
    {
     "name": "stderr",
     "output_type": "stream",
     "text": [
      "100%|██████████| 2500/2500 [02:53<00:00, 14.41it/s]\n",
      "100%|██████████| 2500/2500 [00:35<00:00, 70.18it/s]\n",
      "100%|██████████| 625/625 [00:08<00:00, 70.13it/s]\n"
     ]
    },
    {
     "name": "stdout",
     "output_type": "stream",
     "text": [
      "2022-12-17T12:20:57.631127_train_0.69_test_0.30\n",
      "Epoch:9\n"
     ]
    },
    {
     "name": "stderr",
     "output_type": "stream",
     "text": [
      "100%|██████████| 2500/2500 [02:53<00:00, 14.41it/s]\n",
      "100%|██████████| 2500/2500 [00:35<00:00, 70.08it/s]\n",
      "100%|██████████| 625/625 [00:08<00:00, 70.09it/s]\n"
     ]
    },
    {
     "name": "stdout",
     "output_type": "stream",
     "text": [
      "2022-12-17T12:24:35.743547_train_0.69_test_0.30\n",
      "Epoch:10\n"
     ]
    },
    {
     "name": "stderr",
     "output_type": "stream",
     "text": [
      "100%|██████████| 2500/2500 [02:53<00:00, 14.38it/s]\n",
      "100%|██████████| 2500/2500 [00:35<00:00, 70.10it/s]\n",
      "100%|██████████| 625/625 [00:08<00:00, 70.11it/s]\n"
     ]
    },
    {
     "name": "stdout",
     "output_type": "stream",
     "text": [
      "2022-12-17T12:28:14.151430_train_0.70_test_0.30\n",
      "Epoch:11\n"
     ]
    },
    {
     "name": "stderr",
     "output_type": "stream",
     "text": [
      "100%|██████████| 2500/2500 [02:53<00:00, 14.40it/s]\n",
      "100%|██████████| 2500/2500 [00:35<00:00, 70.11it/s]\n",
      "100%|██████████| 625/625 [00:08<00:00, 70.08it/s]\n"
     ]
    },
    {
     "name": "stdout",
     "output_type": "stream",
     "text": [
      "2022-12-17T12:31:52.386623_train_0.70_test_0.31\n",
      "Epoch:12\n"
     ]
    },
    {
     "name": "stderr",
     "output_type": "stream",
     "text": [
      "100%|██████████| 2500/2500 [02:53<00:00, 14.40it/s]\n",
      "100%|██████████| 2500/2500 [00:35<00:00, 70.13it/s]\n",
      "100%|██████████| 625/625 [00:08<00:00, 70.12it/s]\n"
     ]
    },
    {
     "name": "stdout",
     "output_type": "stream",
     "text": [
      "2022-12-17T12:35:30.806335_train_0.69_test_0.31\n",
      "Epoch:13\n"
     ]
    },
    {
     "name": "stderr",
     "output_type": "stream",
     "text": [
      "100%|██████████| 2500/2500 [02:53<00:00, 14.41it/s]\n",
      "100%|██████████| 2500/2500 [00:35<00:00, 70.09it/s]\n",
      "100%|██████████| 625/625 [00:08<00:00, 70.06it/s]\n"
     ]
    },
    {
     "name": "stdout",
     "output_type": "stream",
     "text": [
      "2022-12-17T12:39:08.928281_train_0.70_test_0.31\n",
      "Epoch:14\n"
     ]
    },
    {
     "name": "stderr",
     "output_type": "stream",
     "text": [
      "100%|██████████| 2500/2500 [02:53<00:00, 14.38it/s]\n",
      "100%|██████████| 2500/2500 [00:35<00:00, 70.11it/s]\n",
      "100%|██████████| 625/625 [00:08<00:00, 70.07it/s]\n"
     ]
    },
    {
     "name": "stdout",
     "output_type": "stream",
     "text": [
      "2022-12-17T12:42:47.333782_train_0.71_test_0.31\n",
      "Epoch:15\n"
     ]
    },
    {
     "name": "stderr",
     "output_type": "stream",
     "text": [
      "100%|██████████| 2500/2500 [02:53<00:00, 14.40it/s]\n",
      "100%|██████████| 2500/2500 [00:35<00:00, 70.21it/s]\n",
      "100%|██████████| 625/625 [00:08<00:00, 70.17it/s]\n"
     ]
    },
    {
     "name": "stdout",
     "output_type": "stream",
     "text": [
      "2022-12-17T12:46:25.470740_train_0.72_test_0.31\n",
      "Epoch:16\n"
     ]
    },
    {
     "name": "stderr",
     "output_type": "stream",
     "text": [
      "100%|██████████| 2500/2500 [02:53<00:00, 14.41it/s]\n",
      "100%|██████████| 2500/2500 [00:35<00:00, 70.21it/s]\n",
      "100%|██████████| 625/625 [00:08<00:00, 70.26it/s]\n"
     ]
    },
    {
     "name": "stdout",
     "output_type": "stream",
     "text": [
      "2022-12-17T12:50:03.548913_train_0.71_test_0.31\n",
      "Epoch:17\n"
     ]
    },
    {
     "name": "stderr",
     "output_type": "stream",
     "text": [
      "100%|██████████| 2500/2500 [02:53<00:00, 14.41it/s]\n",
      "100%|██████████| 2500/2500 [00:35<00:00, 70.21it/s]\n",
      "100%|██████████| 625/625 [00:08<00:00, 70.30it/s]\n"
     ]
    },
    {
     "name": "stdout",
     "output_type": "stream",
     "text": [
      "2022-12-17T12:53:41.663205_train_0.71_test_0.31\n",
      "Epoch:18\n"
     ]
    },
    {
     "name": "stderr",
     "output_type": "stream",
     "text": [
      "100%|██████████| 2500/2500 [02:53<00:00, 14.39it/s]\n",
      "100%|██████████| 2500/2500 [00:35<00:00, 70.09it/s]\n",
      "100%|██████████| 625/625 [00:08<00:00, 70.08it/s]\n"
     ]
    },
    {
     "name": "stdout",
     "output_type": "stream",
     "text": [
      "2022-12-17T12:57:20.058956_train_0.71_test_0.31\n",
      "Epoch:19\n"
     ]
    },
    {
     "name": "stderr",
     "output_type": "stream",
     "text": [
      "100%|██████████| 2500/2500 [02:53<00:00, 14.40it/s]\n",
      "100%|██████████| 2500/2500 [00:35<00:00, 70.10it/s]\n",
      "100%|██████████| 625/625 [00:08<00:00, 70.09it/s]\n"
     ]
    },
    {
     "name": "stdout",
     "output_type": "stream",
     "text": [
      "2022-12-17T13:00:58.304208_train_0.70_test_0.31\n",
      "Epoch:20\n"
     ]
    },
    {
     "name": "stderr",
     "output_type": "stream",
     "text": [
      "100%|██████████| 2500/2500 [02:53<00:00, 14.40it/s]\n",
      "100%|██████████| 2500/2500 [00:35<00:00, 70.10it/s]\n",
      "100%|██████████| 625/625 [00:08<00:00, 70.10it/s]\n"
     ]
    },
    {
     "name": "stdout",
     "output_type": "stream",
     "text": [
      "2022-12-17T13:04:36.500495_train_0.70_test_0.31\n",
      "Epoch:21\n"
     ]
    },
    {
     "name": "stderr",
     "output_type": "stream",
     "text": [
      "100%|██████████| 2500/2500 [02:53<00:00, 14.41it/s]\n",
      "100%|██████████| 2500/2500 [00:35<00:00, 70.08it/s]\n",
      "100%|██████████| 625/625 [00:08<00:00, 70.11it/s]\n"
     ]
    },
    {
     "name": "stdout",
     "output_type": "stream",
     "text": [
      "2022-12-17T13:08:14.628563_train_0.70_test_0.31\n",
      "Epoch:22\n"
     ]
    },
    {
     "name": "stderr",
     "output_type": "stream",
     "text": [
      "100%|██████████| 2500/2500 [02:53<00:00, 14.38it/s]\n",
      "100%|██████████| 2500/2500 [00:35<00:00, 70.08it/s]\n",
      "100%|██████████| 625/625 [00:08<00:00, 70.12it/s]\n"
     ]
    },
    {
     "name": "stdout",
     "output_type": "stream",
     "text": [
      "2022-12-17T13:11:53.198520_train_0.71_test_0.31\n",
      "Epoch:23\n"
     ]
    },
    {
     "name": "stderr",
     "output_type": "stream",
     "text": [
      "100%|██████████| 2500/2500 [02:53<00:00, 14.40it/s]\n",
      "100%|██████████| 2500/2500 [00:35<00:00, 70.10it/s]\n",
      "100%|██████████| 625/625 [00:08<00:00, 70.08it/s]\n"
     ]
    },
    {
     "name": "stdout",
     "output_type": "stream",
     "text": [
      "2022-12-17T13:15:31.457425_train_0.70_test_0.30\n",
      "Epoch:24\n"
     ]
    },
    {
     "name": "stderr",
     "output_type": "stream",
     "text": [
      "100%|██████████| 2500/2500 [02:53<00:00, 14.40it/s]\n",
      "100%|██████████| 2500/2500 [00:35<00:00, 70.11it/s]\n",
      "100%|██████████| 625/625 [00:08<00:00, 70.07it/s]\n"
     ]
    },
    {
     "name": "stdout",
     "output_type": "stream",
     "text": [
      "2022-12-17T13:19:09.653664_train_0.72_test_0.31\n",
      "Epoch:25\n"
     ]
    },
    {
     "name": "stderr",
     "output_type": "stream",
     "text": [
      " 82%|████████▏ | 2046/2500 [02:23<00:31, 14.28it/s]\n"
     ]
    },
    {
     "ename": "KeyboardInterrupt",
     "evalue": "",
     "output_type": "error",
     "traceback": [
      "\u001B[0;31m---------------------------------------------------------------------------\u001B[0m",
      "\u001B[0;31mKeyboardInterrupt\u001B[0m                         Traceback (most recent call last)",
      "Cell \u001B[0;32mIn[13], line 1\u001B[0m\n\u001B[0;32m----> 1\u001B[0m \u001B[43mfit_one_cycle\u001B[49m\u001B[43m(\u001B[49m\u001B[38;5;241;43m150\u001B[39;49m\u001B[43m,\u001B[49m\u001B[43m \u001B[49m\u001B[38;5;241;43m0.001\u001B[39;49m\u001B[43m,\u001B[49m\u001B[43m \u001B[49m\u001B[43mmodel_cifar100\u001B[49m\u001B[43m,\u001B[49m\u001B[43m \u001B[49m\u001B[43mdataloader_cifar100_train\u001B[49m\u001B[43m,\u001B[49m\u001B[43m \u001B[49m\u001B[43mdataloader_cifar100_validation\u001B[49m\u001B[43m,\u001B[49m\u001B[43m \u001B[49m\u001B[43mname\u001B[49m\u001B[38;5;241;43m=\u001B[39;49m\u001B[38;5;124;43m\"\u001B[39;49m\u001B[38;5;124;43mcifar100\u001B[39;49m\u001B[38;5;124;43m\"\u001B[39;49m\u001B[43m)\u001B[49m\n",
      "Cell \u001B[0;32mIn[5], line 11\u001B[0m, in \u001B[0;36mfit_one_cycle\u001B[0;34m(epochs, max_lr, model, dataloader_train, dataloader_test, name)\u001B[0m\n\u001B[1;32m      9\u001B[0m \u001B[38;5;28;01mfor\u001B[39;00m inputs, labels \u001B[38;5;129;01min\u001B[39;00m tqdm(dataloader_train):\n\u001B[1;32m     10\u001B[0m     optimizer\u001B[38;5;241m.\u001B[39mzero_grad()\n\u001B[0;32m---> 11\u001B[0m     inputs, labels \u001B[38;5;241m=\u001B[39m \u001B[43minputs\u001B[49m\u001B[38;5;241;43m.\u001B[39;49m\u001B[43mto\u001B[49m\u001B[43m(\u001B[49m\u001B[43mdevice\u001B[49m\u001B[43m)\u001B[49m, labels\u001B[38;5;241m.\u001B[39mto(device)\n\u001B[1;32m     12\u001B[0m     loss \u001B[38;5;241m=\u001B[39m torch\u001B[38;5;241m.\u001B[39mnn\u001B[38;5;241m.\u001B[39mfunctional\u001B[38;5;241m.\u001B[39mcross_entropy(model(inputs), labels)\n\u001B[1;32m     13\u001B[0m     loss\u001B[38;5;241m.\u001B[39mbackward()\n",
      "\u001B[0;31mKeyboardInterrupt\u001B[0m: "
     ]
    }
   ],
   "source": [
    "fit_one_cycle(150, 0.001, model_cifar100, dataloader_cifar100_train, dataloader_cifar100_validation, name=\"cifar100\")"
   ],
   "metadata": {
    "collapsed": false
   }
  },
  {
   "cell_type": "code",
   "execution_count": 9,
   "outputs": [
    {
     "name": "stderr",
     "output_type": "stream",
     "text": [
      "100%|██████████| 625/625 [00:09<00:00, 68.05it/s]\n"
     ]
    },
    {
     "data": {
      "text/plain": "tensor(0.3103, device='cuda:0')"
     },
     "execution_count": 9,
     "metadata": {},
     "output_type": "execute_result"
    }
   ],
   "source": [
    "eval_accuracy(model_cifar100, dataloader_cifar100_test)"
   ],
   "metadata": {
    "collapsed": false
   }
  },
  {
   "cell_type": "code",
   "execution_count": 11,
   "outputs": [
    {
     "name": "stderr",
     "output_type": "stream",
     "text": [
      "100%|██████████| 625/625 [00:02<00:00, 265.36it/s]\n"
     ]
    }
   ],
   "source": [
    "sums = torch.zeros(100)\n",
    "for inputs, labels in tqdm(dataloader_cifar100_validation):\n",
    "    sums[labels] += 1"
   ],
   "metadata": {
    "collapsed": false
   }
  },
  {
   "cell_type": "code",
   "execution_count": 12,
   "outputs": [
    {
     "data": {
      "text/plain": "tensor([100.,  86., 112.,  95.,  81.,  86., 102., 103., 104.,  86.,  97.,  90.,\n         81., 105.,  69.,  94.,  95.,  94.,  93.,  98.,  89.,  97., 101.,  95.,\n         78.,  91.,  91.,  98.,  87.,  92., 101.,  91.,  87.,  85.,  95.,  81.,\n        100.,  91.,  90.,  89.,  86.,  90., 102.,  95.,  93.,  75., 100.,  79.,\n        103.,  92.,  99.,  84., 101.,  69.,  85.,  93.,  99.,  76.,  86.,  90.,\n        104., 105.,  86.,  89.,  99.,  88.,  90.,  95.,  92.,  97.,  94.,  88.,\n         87.,  90.,  91.,  83.,  92.,  92.,  95., 101.,  84.,  95.,  86.,  87.,\n         91.,  90., 102., 111.,  93.,  90.,  98.,  96.,  86.,  89.,  97.,  98.,\n        100., 101., 101.,  93.])"
     },
     "execution_count": 12,
     "metadata": {},
     "output_type": "execute_result"
    }
   ],
   "source": [
    "sums"
   ],
   "metadata": {
    "collapsed": false
   }
  },
  {
   "cell_type": "code",
   "execution_count": null,
   "outputs": [],
   "source": [],
   "metadata": {
    "collapsed": false
   }
  }
 ],
 "metadata": {
  "kernelspec": {
   "display_name": "Python 3",
   "language": "python",
   "name": "python3"
  },
  "language_info": {
   "codemirror_mode": {
    "name": "ipython",
    "version": 2
   },
   "file_extension": ".py",
   "mimetype": "text/x-python",
   "name": "python",
   "nbconvert_exporter": "python",
   "pygments_lexer": "ipython2",
   "version": "2.7.6"
  }
 },
 "nbformat": 4,
 "nbformat_minor": 0
}
