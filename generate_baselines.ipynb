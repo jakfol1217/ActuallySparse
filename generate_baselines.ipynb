{
 "cells": [
  {
   "cell_type": "code",
   "execution_count": 1,
   "outputs": [],
   "source": [
    "import torch\n",
    "import torchvision\n",
    "import pretrained\n",
    "import nni\n",
    "from nni.algorithms.compression.v2.pytorch import TorchEvaluator\n",
    "from nni.algorithms.compression.v2.pytorch.pruning import LinearPruner"
   ],
   "metadata": {
    "collapsed": false
   }
  },
  {
   "cell_type": "code",
   "execution_count": 2,
   "outputs": [
    {
     "name": "stdout",
     "output_type": "stream",
     "text": [
      "Files already downloaded and verified\n",
      "Files already downloaded and verified\n"
     ]
    }
   ],
   "source": [
    "transform = torchvision.transforms.Compose([\n",
    "    torchvision.transforms.ToTensor(),\n",
    "    torchvision.transforms.Normalize((0.5, 0.5, 0.5), (0.5, 0.5, 0.5))\n",
    "])\n",
    "dataset_train = torchvision.datasets.CIFAR10(\".data\", download=True, transform=transform)\n",
    "dataloader_train = torch.utils.data.DataLoader(dataset_train, batch_size=16)\n",
    "dataset_test = torchvision.datasets.CIFAR10(\".data\", download=True, train=False, transform=transform)\n",
    "dataloader_test = torch.utils.data.DataLoader(dataset_train, batch_size=16)"
   ],
   "metadata": {
    "collapsed": false
   }
  },
  {
   "cell_type": "code",
   "execution_count": 3,
   "outputs": [],
   "source": [
    "training_device = \"cuda\" if torch.cuda.is_available() else \"cpu\"\n",
    "pruning_device = \"cpu\" # do pruning on the CPU to conserve VRAM. Working on 2GB is pain.\n",
    "pretrained_model = pretrained.vgg11_bn(device=training_device)"
   ],
   "metadata": {
    "collapsed": false
   }
  },
  {
   "cell_type": "code",
   "execution_count": 4,
   "outputs": [
    {
     "data": {
      "text/plain": "tensor(0.9684, device='cuda:0')"
     },
     "execution_count": 4,
     "metadata": {},
     "output_type": "execute_result"
    }
   ],
   "source": [
    "def eval_accuracy(model, dataset=\"train\"):\n",
    "    dataloader = dataloader_train if dataset == \"train\" else dataloader_test\n",
    "    with torch.no_grad():\n",
    "        model.to(training_device)\n",
    "        correct = 0\n",
    "        all_so_far = 0\n",
    "        for inputs, labels in dataloader:\n",
    "            inputs, labels = inputs.to(training_device), labels.to(training_device)\n",
    "            pred = torch.argmax(model(inputs), dim=1)\n",
    "\n",
    "            all_so_far += labels.size().numel()\n",
    "            correct += torch.sum(pred.eq(labels))\n",
    "    return correct/all_so_far\n",
    "eval_accuracy(pretrained_model)"
   ],
   "metadata": {
    "collapsed": false
   }
  },
  {
   "cell_type": "code",
   "execution_count": 5,
   "outputs": [],
   "source": [
    "def training_func(model, optimizers, criterion, *_args, **_kwargs):\n",
    "    model.train()\n",
    "    model.to(training_device)\n",
    "    torch.cuda.empty_cache()\n",
    "    for epoch in range(3):\n",
    "        for inputs, labels in dataloader_train:\n",
    "            inputs, labels = inputs.to(training_device), labels.to(training_device)\n",
    "            optimizers.zero_grad()\n",
    "            loss = criterion(model(inputs), labels)\n",
    "            loss.backward()\n",
    "            optimizers.step()\n",
    "    model.to(pruning_device)\n",
    "    torch.cuda.empty_cache()"
   ],
   "metadata": {
    "collapsed": false
   }
  },
  {
   "cell_type": "code",
   "execution_count": 6,
   "outputs": [],
   "source": [
    "def prune_model(model, sparsity, iterations):\n",
    "    optimizer_pruner = nni.trace(torch.optim.Adam)(pretrained_model.parameters(), lr=1e-3)\n",
    "    dummy_input = torch.rand(8, 32, 32).to(training_device)\n",
    "\n",
    "    evaluator = TorchEvaluator(\n",
    "        training_func=training_func,\n",
    "        optimizers=optimizer_pruner,\n",
    "        criterion=torch.nn.CrossEntropyLoss(),\n",
    "        dummy_input=dummy_input)\n",
    "\n",
    "    config_list = [{\n",
    "        \"sparsity\": sparsity,\n",
    "        \"op_types\": [\"Linear\"]\n",
    "    }]\n",
    "\n",
    "    model.to(pruning_device)\n",
    "\n",
    "    itpruner = LinearPruner(\n",
    "        model,\n",
    "        config_list,\n",
    "        total_iteration=iterations,\n",
    "        pruning_algorithm=\"level\",\n",
    "        evaluator=evaluator,\n",
    "        log_dir=\".nni_log/\")\n",
    "\n",
    "    torch.cuda.empty_cache()\n",
    "    itpruner.compress()\n",
    "    return itpruner.get_best_result()"
   ],
   "metadata": {
    "collapsed": false
   }
  },
  {
   "cell_type": "code",
   "execution_count": 7,
   "outputs": [
    {
     "name": "stdout",
     "output_type": "stream",
     "text": [
      "[2022-12-06 12:59:52] \u001B[33mWARNING: This compressor is not set model and config_list, waiting for reset() or pass this to scheduler.\u001B[0m\n",
      "[2022-12-06 12:59:57] \u001B[32msimulated prune classifier.0 remain/total: 4096/4096\u001B[0m\n",
      "[2022-12-06 12:59:57] \u001B[32msimulated prune classifier.3 remain/total: 4096/4096\u001B[0m\n",
      "[2022-12-06 12:59:57] \u001B[32msimulated prune classifier.6 remain/total: 10/10\u001B[0m\n",
      "[2022-12-06 13:09:00] \u001B[32msimulated prune classifier.0 remain/total: 3811/4096\u001B[0m\n",
      "[2022-12-06 13:09:01] \u001B[32msimulated prune classifier.3 remain/total: 4096/4096\u001B[0m\n",
      "[2022-12-06 13:09:01] \u001B[32msimulated prune classifier.6 remain/total: 10/10\u001B[0m\n",
      "[2022-12-06 13:18:16] \u001B[32msimulated prune classifier.0 remain/total: 3715/4096\u001B[0m\n",
      "[2022-12-06 13:18:16] \u001B[32msimulated prune classifier.3 remain/total: 4024/4096\u001B[0m\n",
      "[2022-12-06 13:18:16] \u001B[32msimulated prune classifier.6 remain/total: 10/10\u001B[0m\n",
      "[2022-12-06 13:27:29] \u001B[32msimulated prune classifier.0 remain/total: 3645/4096\u001B[0m\n",
      "[2022-12-06 13:27:29] \u001B[32msimulated prune classifier.3 remain/total: 4001/4096\u001B[0m\n",
      "[2022-12-06 13:27:29] \u001B[32msimulated prune classifier.6 remain/total: 10/10\u001B[0m\n",
      "[2022-12-06 13:36:25] \u001B[32msimulated prune classifier.0 remain/total: 3591/4096\u001B[0m\n",
      "[2022-12-06 13:36:25] \u001B[32msimulated prune classifier.3 remain/total: 3975/4096\u001B[0m\n",
      "[2022-12-06 13:36:25] \u001B[32msimulated prune classifier.6 remain/total: 10/10\u001B[0m\n",
      "[2022-12-06 13:45:08] \u001B[32msimulated prune classifier.0 remain/total: 3550/4096\u001B[0m\n",
      "[2022-12-06 13:45:08] \u001B[32msimulated prune classifier.3 remain/total: 3941/4096\u001B[0m\n",
      "[2022-12-06 13:45:08] \u001B[32msimulated prune classifier.6 remain/total: 10/10\u001B[0m\n",
      "[2022-12-06 13:54:21] \u001B[32msimulated prune classifier.0 remain/total: 3508/4096\u001B[0m\n",
      "[2022-12-06 13:54:21] \u001B[32msimulated prune classifier.3 remain/total: 3908/4096\u001B[0m\n",
      "[2022-12-06 13:54:21] \u001B[32msimulated prune classifier.6 remain/total: 10/10\u001B[0m\n",
      "[2022-12-06 14:03:15] \u001B[32msimulated prune classifier.0 remain/total: 3458/4096\u001B[0m\n",
      "[2022-12-06 14:03:15] \u001B[32msimulated prune classifier.3 remain/total: 3873/4096\u001B[0m\n",
      "[2022-12-06 14:03:15] \u001B[32msimulated prune classifier.6 remain/total: 10/10\u001B[0m\n",
      "[2022-12-06 14:12:26] \u001B[32msimulated prune classifier.0 remain/total: 3404/4096\u001B[0m\n",
      "[2022-12-06 14:12:26] \u001B[32msimulated prune classifier.3 remain/total: 3831/4096\u001B[0m\n",
      "[2022-12-06 14:12:26] \u001B[32msimulated prune classifier.6 remain/total: 10/10\u001B[0m\n",
      "[2022-12-06 14:21:16] \u001B[32msimulated prune classifier.0 remain/total: 3325/4096\u001B[0m\n",
      "[2022-12-06 14:21:16] \u001B[32msimulated prune classifier.3 remain/total: 3754/4096\u001B[0m\n",
      "[2022-12-06 14:21:16] \u001B[32msimulated prune classifier.6 remain/total: 10/10\u001B[0m\n",
      "[2022-12-06 14:30:20] \u001B[32msimulated prune classifier.0 remain/total: 3158/4096\u001B[0m\n",
      "[2022-12-06 14:30:20] \u001B[32msimulated prune classifier.3 remain/total: 3670/4096\u001B[0m\n",
      "[2022-12-06 14:30:20] \u001B[32msimulated prune classifier.6 remain/total: 10/10\u001B[0m\n",
      "[2022-12-06 14:39:31] \u001B[33mWARNING: This compressor is not set model and config_list, waiting for reset() or pass this to scheduler.\u001B[0m\n",
      "[2022-12-06 14:39:36] \u001B[32msimulated prune classifier.0 remain/total: 4096/4096\u001B[0m\n",
      "[2022-12-06 14:39:36] \u001B[32msimulated prune classifier.3 remain/total: 4096/4096\u001B[0m\n",
      "[2022-12-06 14:39:36] \u001B[32msimulated prune classifier.6 remain/total: 10/10\u001B[0m\n",
      "[2022-12-06 14:48:48] \u001B[32msimulated prune classifier.0 remain/total: 3797/4096\u001B[0m\n",
      "[2022-12-06 14:48:48] \u001B[32msimulated prune classifier.3 remain/total: 4096/4096\u001B[0m\n",
      "[2022-12-06 14:48:48] \u001B[32msimulated prune classifier.6 remain/total: 10/10\u001B[0m\n",
      "[2022-12-06 14:57:44] \u001B[32msimulated prune classifier.0 remain/total: 3704/4096\u001B[0m\n",
      "[2022-12-06 14:57:44] \u001B[32msimulated prune classifier.3 remain/total: 4019/4096\u001B[0m\n",
      "[2022-12-06 14:57:44] \u001B[32msimulated prune classifier.6 remain/total: 10/10\u001B[0m\n",
      "[2022-12-06 15:06:42] \u001B[32msimulated prune classifier.0 remain/total: 3633/4096\u001B[0m\n",
      "[2022-12-06 15:06:42] \u001B[32msimulated prune classifier.3 remain/total: 3988/4096\u001B[0m\n",
      "[2022-12-06 15:06:42] \u001B[32msimulated prune classifier.6 remain/total: 10/10\u001B[0m\n",
      "[2022-12-06 15:15:54] \u001B[32msimulated prune classifier.0 remain/total: 3578/4096\u001B[0m\n",
      "[2022-12-06 15:15:54] \u001B[32msimulated prune classifier.3 remain/total: 3961/4096\u001B[0m\n",
      "[2022-12-06 15:15:54] \u001B[32msimulated prune classifier.6 remain/total: 10/10\u001B[0m\n",
      "[2022-12-06 15:24:49] \u001B[32msimulated prune classifier.0 remain/total: 3531/4096\u001B[0m\n",
      "[2022-12-06 15:24:49] \u001B[32msimulated prune classifier.3 remain/total: 3925/4096\u001B[0m\n",
      "[2022-12-06 15:24:49] \u001B[32msimulated prune classifier.6 remain/total: 10/10\u001B[0m\n",
      "[2022-12-06 15:33:33] \u001B[32msimulated prune classifier.0 remain/total: 3473/4096\u001B[0m\n",
      "[2022-12-06 15:33:33] \u001B[32msimulated prune classifier.3 remain/total: 3887/4096\u001B[0m\n",
      "[2022-12-06 15:33:33] \u001B[32msimulated prune classifier.6 remain/total: 10/10\u001B[0m\n",
      "[2022-12-06 15:42:01] \u001B[32msimulated prune classifier.0 remain/total: 3423/4096\u001B[0m\n",
      "[2022-12-06 15:42:01] \u001B[32msimulated prune classifier.3 remain/total: 3844/4096\u001B[0m\n",
      "[2022-12-06 15:42:01] \u001B[32msimulated prune classifier.6 remain/total: 10/10\u001B[0m\n",
      "[2022-12-06 15:50:33] \u001B[32msimulated prune classifier.0 remain/total: 3350/4096\u001B[0m\n",
      "[2022-12-06 15:50:33] \u001B[32msimulated prune classifier.3 remain/total: 3769/4096\u001B[0m\n",
      "[2022-12-06 15:50:33] \u001B[32msimulated prune classifier.6 remain/total: 10/10\u001B[0m\n",
      "[2022-12-06 15:59:46] \u001B[32msimulated prune classifier.0 remain/total: 3181/4096\u001B[0m\n",
      "[2022-12-06 15:59:46] \u001B[32msimulated prune classifier.3 remain/total: 3681/4096\u001B[0m\n",
      "[2022-12-06 15:59:46] \u001B[32msimulated prune classifier.6 remain/total: 10/10\u001B[0m\n",
      "[2022-12-06 16:08:42] \u001B[32msimulated prune classifier.0 remain/total: 1894/4096\u001B[0m\n",
      "[2022-12-06 16:08:42] \u001B[32msimulated prune classifier.3 remain/total: 2810/4096\u001B[0m\n",
      "[2022-12-06 16:08:42] \u001B[32msimulated prune classifier.6 remain/total: 10/10\u001B[0m\n"
     ]
    }
   ],
   "source": [
    "_, pruned_model, masks, *_ = prune_model(pretrained_model, .90, 10)\n",
    "_, very_pruned_model, very_masks, *_ = prune_model(pretrained_model, .99, 10)"
   ],
   "metadata": {
    "collapsed": false
   }
  },
  {
   "cell_type": "code",
   "execution_count": 9,
   "outputs": [],
   "source": [
    "import copy\n",
    "extra_trained_model = copy.deepcopy(pretrained_model)\n",
    "normal_optimizer = torch.optim.Adam(extra_trained_model.parameters(), lr=1e-3)\n",
    "for _ in range(10):\n",
    "    training_func(extra_trained_model, normal_optimizer, torch.nn.CrossEntropyLoss())"
   ],
   "metadata": {
    "collapsed": false
   }
  },
  {
   "cell_type": "code",
   "execution_count": 10,
   "outputs": [
    {
     "name": "stdout",
     "output_type": "stream",
     "text": [
      "pretrained:  tensor(0.9686, device='cuda:0')\n",
      "extra train:  tensor(0.9809, device='cuda:0')\n",
      "0.9 prune:  tensor(0.9959, device='cuda:0')\n",
      "0.99 prune:  tensor(0.8350, device='cuda:0')\n"
     ]
    }
   ],
   "source": [
    "print(\"pretrained: \", eval_accuracy(pretrained_model, \"test\"))\n",
    "print(\"extra train: \", eval_accuracy(extra_trained_model, \"test\"))\n",
    "print(\"0.9 prune: \", eval_accuracy(pruned_model, \"test\"))\n",
    "print(\"0.99 prune: \", eval_accuracy(very_pruned_model, \"test\"))"
   ],
   "metadata": {
    "collapsed": false
   }
  },
  {
   "cell_type": "code",
   "execution_count": 12,
   "outputs": [],
   "source": [
    "torch.save(pretrained_model, \".weights/full/pretrained\")\n",
    "torch.save(extra_trained_model, \".weights/full/extra_trained\")\n",
    "torch.save(pruned_model, \".weights/full/pruned\")\n",
    "torch.save(very_pruned_model, \".weights/full/very_pruned\")"
   ],
   "metadata": {
    "collapsed": false
   }
  },
  {
   "cell_type": "code",
   "execution_count": null,
   "outputs": [],
   "source": [],
   "metadata": {
    "collapsed": false
   }
  }
 ],
 "metadata": {
  "kernelspec": {
   "display_name": "Python 3",
   "language": "python",
   "name": "python3"
  },
  "language_info": {
   "codemirror_mode": {
    "name": "ipython",
    "version": 2
   },
   "file_extension": ".py",
   "mimetype": "text/x-python",
   "name": "python",
   "nbconvert_exporter": "python",
   "pygments_lexer": "ipython2",
   "version": "2.7.6"
  }
 },
 "nbformat": 4,
 "nbformat_minor": 0
}
