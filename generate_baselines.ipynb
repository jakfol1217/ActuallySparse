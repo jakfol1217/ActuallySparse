{
 "cells": [
  {
   "cell_type": "code",
   "execution_count": 1,
   "outputs": [],
   "source": [
    "import torch\n",
    "import torchvision\n",
    "import pretrained\n",
    "import nni\n",
    "from nni.algorithms.compression.v2.pytorch import TorchEvaluator\n",
    "from nni.algorithms.compression.v2.pytorch.pruning import LinearPruner"
   ],
   "metadata": {
    "collapsed": false
   }
  },
  {
   "cell_type": "code",
   "execution_count": 2,
   "outputs": [
    {
     "name": "stdout",
     "output_type": "stream",
     "text": [
      "Files already downloaded and verified\n",
      "Files already downloaded and verified\n"
     ]
    }
   ],
   "source": [
    "transform = torchvision.transforms.Compose([\n",
    "    torchvision.transforms.ToTensor(),\n",
    "    torchvision.transforms.Normalize((0.5, 0.5, 0.5), (0.5, 0.5, 0.5))\n",
    "])\n",
    "dataset_train = torchvision.datasets.CIFAR10(\".data\", download=True, transform=transform)\n",
    "dataloader_train = torch.utils.data.DataLoader(dataset_train, batch_size=16)\n",
    "dataset_test = torchvision.datasets.CIFAR10(\".data\", download=True, train=False, transform=transform)\n",
    "dataloader_test = torch.utils.data.DataLoader(dataset_test, batch_size=16)"
   ],
   "metadata": {
    "collapsed": false
   }
  },
  {
   "cell_type": "code",
   "execution_count": 4,
   "outputs": [],
   "source": [
    "training_device = \"cuda\" if torch.cuda.is_available() else \"cpu\"\n",
    "pruning_device = \"cpu\"\n",
    "pretrained_model = pretrained.vgg11_bn(device=training_device)"
   ],
   "metadata": {
    "collapsed": false
   }
  },
  {
   "cell_type": "code",
   "execution_count": 17,
   "outputs": [],
   "source": [
    "def eval_accuracy(model, dataset=\"train\"):\n",
    "    dataloader = dataloader_train if dataset == \"train\" else dataloader_test\n",
    "    with torch.no_grad():\n",
    "        model.to(training_device)\n",
    "        correct = 0\n",
    "        all_so_far = 0\n",
    "        for inputs, labels in dataloader:\n",
    "            inputs, labels = inputs.to(training_device), labels.to(training_device)\n",
    "            pred = torch.argmax(model(inputs), dim=1)\n",
    "\n",
    "            all_so_far += labels.size().numel()\n",
    "            correct += torch.sum(pred.eq(labels))\n",
    "    return correct/all_so_far"
   ],
   "metadata": {
    "collapsed": false
   }
  },
  {
   "cell_type": "code",
   "execution_count": null,
   "outputs": [],
   "source": [
    "def training_func(model, optimizers, criterion, *_args, **_kwargs):\n",
    "    model.train()\n",
    "    model.to(training_device)\n",
    "    torch.cuda.empty_cache()\n",
    "    for epoch in range(3):\n",
    "        for inputs, labels in dataloader_train:\n",
    "            inputs, labels = inputs.to(training_device), labels.to(training_device)\n",
    "            optimizers.zero_grad()\n",
    "            loss = criterion(model(inputs), labels)\n",
    "            loss.backward()\n",
    "            optimizers.step()\n",
    "    model.to(pruning_device)\n",
    "    torch.cuda.empty_cache()"
   ],
   "metadata": {
    "collapsed": false
   }
  },
  {
   "cell_type": "code",
   "execution_count": 6,
   "outputs": [],
   "source": [
    "def prune_model(model, sparsity, iterations):\n",
    "    optimizer_pruner = nni.trace(torch.optim.Adam)(pretrained_model.parameters(), lr=1e-3)\n",
    "    dummy_input = torch.rand(8, 32, 32).to(training_device)\n",
    "\n",
    "    evaluator = TorchEvaluator(\n",
    "        training_func=training_func,\n",
    "        optimizers=optimizer_pruner,\n",
    "        criterion=torch.nn.CrossEntropyLoss(),\n",
    "        dummy_input=dummy_input)\n",
    "\n",
    "    config_list = [{\n",
    "        \"sparsity\": sparsity,\n",
    "        \"op_types\": [\"Linear\"]\n",
    "    }]\n",
    "\n",
    "    model.to(pruning_device)\n",
    "\n",
    "    itpruner = LinearPruner(\n",
    "        model,\n",
    "        config_list,\n",
    "        total_iteration=iterations,\n",
    "        pruning_algorithm=\"level\",\n",
    "        evaluator=evaluator,\n",
    "        log_dir=\".nni_log/\")\n",
    "\n",
    "    torch.cuda.empty_cache()\n",
    "    itpruner.compress()\n",
    "    return itpruner.get_best_result()"
   ],
   "metadata": {
    "collapsed": false
   }
  },
  {
   "cell_type": "code",
   "execution_count": null,
   "outputs": [],
   "source": [
    "_, pruned_model, masks, *_ = prune_model(pretrained_model, .90, 10)\n",
    "_, very_pruned_model, very_masks, *_ = prune_model(pretrained_model, .99, 10)"
   ],
   "metadata": {
    "collapsed": false
   }
  },
  {
   "cell_type": "code",
   "execution_count": 9,
   "outputs": [],
   "source": [
    "import copy\n",
    "extra_trained_model = copy.deepcopy(pretrained_model)\n",
    "normal_optimizer = torch.optim.Adam(extra_trained_model.parameters(), lr=1e-3)\n",
    "for _ in range(10):\n",
    "    training_func(extra_trained_model, normal_optimizer, torch.nn.CrossEntropyLoss())"
   ],
   "metadata": {
    "collapsed": false
   }
  },
  {
   "cell_type": "code",
   "execution_count": 10,
   "outputs": [
    {
     "name": "stdout",
     "output_type": "stream",
     "text": [
      "pretrained:  tensor(0.9686, device='cuda:0')\n",
      "extra train:  tensor(0.9809, device='cuda:0')\n",
      "0.9 prune:  tensor(0.9959, device='cuda:0')\n",
      "0.99 prune:  tensor(0.8350, device='cuda:0')\n"
     ]
    }
   ],
   "source": [
    "print(\"pretrained: \", eval_accuracy(pretrained_model, \"train\"))\n",
    "print(\"extra train: \", eval_accuracy(extra_trained_model, \"train\"))\n",
    "print(\"0.9 prune: \", eval_accuracy(pruned_model, \"train\"))\n",
    "print(\"0.99 prune: \", eval_accuracy(very_pruned_model, \"train\"))"
   ],
   "metadata": {
    "collapsed": false
   }
  },
  {
   "cell_type": "code",
   "execution_count": 12,
   "outputs": [],
   "source": [
    "torch.save(pretrained_model, \".weights/full/pretrained\")\n",
    "torch.save(extra_trained_model, \".weights/full/extra_trained\")\n",
    "torch.save(pruned_model, \".weights/full/pruned\")\n",
    "torch.save(very_pruned_model, \".weights/full/very_pruned\")"
   ],
   "metadata": {
    "collapsed": false
   }
  },
  {
   "cell_type": "code",
   "execution_count": 5,
   "outputs": [],
   "source": [
    "pretrained_model = torch.load(\".weights/full/pretrained\").to(pruning_device)\n",
    "extra_trained_model = torch.load(\".weights/full/extra_trained\").to(pruning_device)\n",
    "pruned_model = torch.load(\".weights/full/pruned\").to(pruning_device)\n",
    "very_pruned_model = torch.load(\".weights/full/very_pruned\").to(pruning_device)"
   ],
   "metadata": {
    "collapsed": false
   }
  },
  {
   "cell_type": "code",
   "execution_count": 8,
   "outputs": [
    {
     "name": "stdout",
     "output_type": "stream",
     "text": [
      "pretrained:  tensor(0.8808, device='cuda:0')\n",
      "extra train:  tensor(0.8030, device='cuda:0')\n",
      "0.9 prune:  tensor(0.8242, device='cuda:0')\n",
      "0.99 prune:  tensor(0.6981, device='cuda:0')\n"
     ]
    }
   ],
   "source": [
    "print(\"pretrained: \", eval_accuracy(pretrained_model, \"test\"))\n",
    "print(\"extra train: \", eval_accuracy(extra_trained_model, \"test\"))\n",
    "print(\"0.9 prune: \", eval_accuracy(pruned_model, \"test\"))\n",
    "print(\"0.99 prune: \", eval_accuracy(very_pruned_model, \"test\"))"
   ],
   "metadata": {
    "collapsed": false
   }
  },
  {
   "cell_type": "code",
   "execution_count": 6,
   "outputs": [],
   "source": [
    "pretrained_model.eval()\n",
    "extra_trained_model.eval()\n",
    "pruned_model.eval()\n",
    "very_pruned_model.eval()\n",
    "None"
   ],
   "metadata": {
    "collapsed": false
   }
  },
  {
   "cell_type": "code",
   "execution_count": 18,
   "outputs": [
    {
     "name": "stdout",
     "output_type": "stream",
     "text": [
      "pretrained:  tensor(0.9074, device='cuda:0')\n",
      "extra train:  tensor(0.8191, device='cuda:0')\n",
      "0.9 prune:  tensor(0.8365, device='cuda:0')\n",
      "0.99 prune:  tensor(0.7648, device='cuda:0')\n"
     ]
    }
   ],
   "source": [
    "print(\"pretrained: \", eval_accuracy(pretrained_model, \"test\"))\n",
    "print(\"extra train: \", eval_accuracy(extra_trained_model, \"test\"))\n",
    "print(\"0.9 prune: \", eval_accuracy(pruned_model, \"test\"))\n",
    "print(\"0.99 prune: \", eval_accuracy(very_pruned_model, \"test\"))"
   ],
   "metadata": {
    "collapsed": false
   }
  },
  {
   "cell_type": "code",
   "execution_count": 7,
   "outputs": [],
   "source": [
    "from actuallysparse import converter\n",
    "\n",
    "def compare_memory(layer, mode=\"coo\"):\n",
    "    l_coo = converter.convert(layer, mode)\n",
    "    t_dense = very_pruned_model.classifier[0].weight\n",
    "    size_mb_dense = t_dense.element_size() * t_dense.nelement() /1024**2\n",
    "    t_coo = l_coo.weight.coalesce()\n",
    "    size_mb_sparse = (t_coo.indices().nelement() * 8 + t_coo.values().nelement() * 4) / 1024**2\n",
    "    return size_mb_dense, size_mb_sparse"
   ],
   "metadata": {
    "collapsed": false
   }
  },
  {
   "cell_type": "code",
   "execution_count": 12,
   "outputs": [],
   "source": [
    "def sum_layers(model):\n",
    "    x, y = 0, 0\n",
    "    for i in [0, 3, 6]:\n",
    "        xa, ya = compare_memory(model.classifier[i])\n",
    "        x += xa\n",
    "        y += ya\n",
    "    return x, y"
   ],
   "metadata": {
    "collapsed": false
   }
  },
  {
   "cell_type": "code",
   "execution_count": 13,
   "outputs": [
    {
     "data": {
      "text/plain": "(24.0, 360.78125)"
     },
     "execution_count": 13,
     "metadata": {},
     "output_type": "execute_result"
    }
   ],
   "source": [
    "sum_layers(pretrained_model)"
   ],
   "metadata": {
    "collapsed": false
   }
  },
  {
   "cell_type": "code",
   "execution_count": 14,
   "outputs": [
    {
     "data": {
      "text/plain": "(24.0, 36.078147888183594)"
     },
     "execution_count": 14,
     "metadata": {},
     "output_type": "execute_result"
    }
   ],
   "source": [
    "sum_layers(pruned_model)"
   ],
   "metadata": {
    "collapsed": false
   }
  },
  {
   "cell_type": "code",
   "execution_count": 15,
   "outputs": [
    {
     "data": {
      "text/plain": "(24.0, 3.6078453063964844)"
     },
     "execution_count": 15,
     "metadata": {},
     "output_type": "execute_result"
    }
   ],
   "source": [
    "sum_layers(very_pruned_model)"
   ],
   "metadata": {
    "collapsed": false
   }
  },
  {
   "cell_type": "code",
   "execution_count": 22,
   "outputs": [
    {
     "data": {
      "text/plain": "(8.0, 32.00000762939453)"
     },
     "execution_count": 22,
     "metadata": {},
     "output_type": "execute_result"
    }
   ],
   "source": [
    "compare_memory(pruned_model.classifier[3])"
   ],
   "metadata": {
    "collapsed": false
   }
  },
  {
   "cell_type": "code",
   "execution_count": null,
   "outputs": [],
   "source": [],
   "metadata": {
    "collapsed": false
   }
  }
 ],
 "metadata": {
  "kernelspec": {
   "display_name": "Python 3",
   "language": "python",
   "name": "python3"
  },
  "language_info": {
   "codemirror_mode": {
    "name": "ipython",
    "version": 2
   },
   "file_extension": ".py",
   "mimetype": "text/x-python",
   "name": "python",
   "nbconvert_exporter": "python",
   "pygments_lexer": "ipython2",
   "version": "2.7.6"
  }
 },
 "nbformat": 4,
 "nbformat_minor": 0
}
