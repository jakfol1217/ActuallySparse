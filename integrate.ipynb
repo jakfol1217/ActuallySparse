{
 "cells": [
  {
   "cell_type": "code",
   "execution_count": 1,
   "outputs": [],
   "source": [
    "import torch\n",
    "import torchvision\n",
    "import pretrained\n",
    "import nni"
   ],
   "metadata": {
    "collapsed": false
   }
  },
  {
   "cell_type": "code",
   "execution_count": 2,
   "outputs": [
    {
     "name": "stdout",
     "output_type": "stream",
     "text": [
      "Files already downloaded and verified\n"
     ]
    }
   ],
   "source": [
    "transform = torchvision.transforms.Compose([\n",
    "    torchvision.transforms.ToTensor(),\n",
    "    torchvision.transforms.Normalize((0.5, 0.5, 0.5), (0.5, 0.5, 0.5))\n",
    "])\n",
    "dataset = torchvision.datasets.CIFAR10(\".data\", download=True, transform=transform)\n",
    "dataloader = torch.utils.data.DataLoader(dataset, batch_size=16)"
   ],
   "metadata": {
    "collapsed": false
   }
  },
  {
   "cell_type": "code",
   "execution_count": 3,
   "outputs": [],
   "source": [
    "device = \"cuda\" if torch.cuda.is_available() else \"cpu\"\n",
    "pruning_device = \"cpu\" # do pruning on the CPU to conserve VRAM. Working on 2GB is pain."
   ],
   "metadata": {
    "collapsed": false
   }
  },
  {
   "cell_type": "code",
   "execution_count": 4,
   "outputs": [
    {
     "data": {
      "text/plain": "VGG(\n  (features): Sequential(\n    (0): Conv2d(3, 64, kernel_size=(3, 3), stride=(1, 1), padding=(1, 1))\n    (1): BatchNorm2d(64, eps=1e-05, momentum=0.1, affine=True, track_running_stats=True)\n    (2): ReLU(inplace=True)\n    (3): MaxPool2d(kernel_size=2, stride=2, padding=0, dilation=1, ceil_mode=False)\n    (4): Conv2d(64, 128, kernel_size=(3, 3), stride=(1, 1), padding=(1, 1))\n    (5): BatchNorm2d(128, eps=1e-05, momentum=0.1, affine=True, track_running_stats=True)\n    (6): ReLU(inplace=True)\n    (7): MaxPool2d(kernel_size=2, stride=2, padding=0, dilation=1, ceil_mode=False)\n    (8): Conv2d(128, 256, kernel_size=(3, 3), stride=(1, 1), padding=(1, 1))\n    (9): BatchNorm2d(256, eps=1e-05, momentum=0.1, affine=True, track_running_stats=True)\n    (10): ReLU(inplace=True)\n    (11): Conv2d(256, 256, kernel_size=(3, 3), stride=(1, 1), padding=(1, 1))\n    (12): BatchNorm2d(256, eps=1e-05, momentum=0.1, affine=True, track_running_stats=True)\n    (13): ReLU(inplace=True)\n    (14): MaxPool2d(kernel_size=2, stride=2, padding=0, dilation=1, ceil_mode=False)\n    (15): Conv2d(256, 512, kernel_size=(3, 3), stride=(1, 1), padding=(1, 1))\n    (16): BatchNorm2d(512, eps=1e-05, momentum=0.1, affine=True, track_running_stats=True)\n    (17): ReLU(inplace=True)\n    (18): Conv2d(512, 512, kernel_size=(3, 3), stride=(1, 1), padding=(1, 1))\n    (19): BatchNorm2d(512, eps=1e-05, momentum=0.1, affine=True, track_running_stats=True)\n    (20): ReLU(inplace=True)\n    (21): MaxPool2d(kernel_size=2, stride=2, padding=0, dilation=1, ceil_mode=False)\n    (22): Conv2d(512, 512, kernel_size=(3, 3), stride=(1, 1), padding=(1, 1))\n    (23): BatchNorm2d(512, eps=1e-05, momentum=0.1, affine=True, track_running_stats=True)\n    (24): ReLU(inplace=True)\n    (25): Conv2d(512, 512, kernel_size=(3, 3), stride=(1, 1), padding=(1, 1))\n    (26): BatchNorm2d(512, eps=1e-05, momentum=0.1, affine=True, track_running_stats=True)\n    (27): ReLU(inplace=True)\n    (28): MaxPool2d(kernel_size=2, stride=2, padding=0, dilation=1, ceil_mode=False)\n  )\n  (avgpool): AdaptiveAvgPool2d(output_size=(1, 1))\n  (classifier): Sequential(\n    (0): Linear(in_features=512, out_features=4096, bias=True)\n    (1): ReLU(inplace=True)\n    (2): Dropout(p=0.5, inplace=False)\n    (3): Linear(in_features=4096, out_features=4096, bias=True)\n    (4): ReLU(inplace=True)\n    (5): Dropout(p=0.5, inplace=False)\n    (6): Linear(in_features=4096, out_features=10, bias=True)\n  )\n)"
     },
     "execution_count": 4,
     "metadata": {},
     "output_type": "execute_result"
    }
   ],
   "source": [
    "model = pretrained.vgg11_bn(device=device)\n",
    "model.eval()\n"
   ],
   "metadata": {
    "collapsed": false
   }
  },
  {
   "cell_type": "code",
   "execution_count": 5,
   "outputs": [
    {
     "name": "stdout",
     "output_type": "stream",
     "text": [
      "Accuracy: 0.91                   \n",
      "CPU times: user 59.8 s, sys: 195 ms, total: 60 s\n",
      "Wall time: 59.9 s\n"
     ]
    }
   ],
   "source": [
    "%%time\n",
    "with torch.no_grad():\n",
    "    model.to(device)\n",
    "    correct = 0\n",
    "    all_so_far = 0\n",
    "    for inputs, labels in dataloader:\n",
    "        inputs, labels = inputs.to(device), labels.to(device)\n",
    "        pred = torch.argmax(model(inputs), dim=1)\n",
    "\n",
    "        all_so_far += labels.size().numel()\n",
    "        correct += torch.sum(pred.eq(labels))\n",
    "        print(f\"Accuracy so far: {correct/all_so_far:.2f}\", end=\"\\r\")\n",
    "print(f\"Accuracy: {correct/all_so_far:.2f}                   \")"
   ],
   "metadata": {
    "collapsed": false
   }
  },
  {
   "cell_type": "code",
   "execution_count": 6,
   "outputs": [],
   "source": [
    "def training_func(model, optimizers, criterion, *_args, **_kwargs):\n",
    "    model.train()\n",
    "    model.to(device)\n",
    "    torch.cuda.empty_cache()\n",
    "    for epoch in range(3):\n",
    "        for inputs, labels in dataloader:\n",
    "            inputs, labels = inputs.to(device), labels.to(device)\n",
    "            optimizers.zero_grad()\n",
    "            loss = criterion(model(inputs), labels)\n",
    "            loss.backward()\n",
    "            optimizers.step()\n",
    "    model.to(pruning_device)\n",
    "    torch.cuda.empty_cache()"
   ],
   "metadata": {
    "collapsed": false
   }
  },
  {
   "cell_type": "code",
   "execution_count": 7,
   "outputs": [],
   "source": [
    "torch.cuda.empty_cache()"
   ],
   "metadata": {
    "collapsed": false
   }
  },
  {
   "cell_type": "code",
   "execution_count": 8,
   "outputs": [
    {
     "name": "stdout",
     "output_type": "stream",
     "text": [
      "[2022-11-29 20:38:51] \u001B[33mWARNING: This compressor is not set model and config_list, waiting for reset() or pass this to scheduler.\u001B[0m\n",
      "[2022-11-29 20:38:55] \u001B[32msimulated prune classifier.0 remain/total: 4096/4096\u001B[0m\n",
      "[2022-11-29 20:38:55] \u001B[32msimulated prune classifier.3 remain/total: 4096/4096\u001B[0m\n",
      "[2022-11-29 20:38:55] \u001B[32msimulated prune classifier.6 remain/total: 10/10\u001B[0m\n",
      "[2022-11-29 20:48:07] \u001B[32msimulated prune classifier.0 remain/total: 3797/4096\u001B[0m\n",
      "[2022-11-29 20:48:07] \u001B[32msimulated prune classifier.3 remain/total: 4096/4096\u001B[0m\n",
      "[2022-11-29 20:48:07] \u001B[32msimulated prune classifier.6 remain/total: 10/10\u001B[0m\n",
      "[2022-11-29 20:57:03] \u001B[32msimulated prune classifier.0 remain/total: 3704/4096\u001B[0m\n",
      "[2022-11-29 20:57:03] \u001B[32msimulated prune classifier.3 remain/total: 4019/4096\u001B[0m\n",
      "[2022-11-29 20:57:03] \u001B[32msimulated prune classifier.6 remain/total: 10/10\u001B[0m\n",
      "[2022-11-29 21:05:14] \u001B[32msimulated prune classifier.0 remain/total: 3633/4096\u001B[0m\n",
      "[2022-11-29 21:05:14] \u001B[32msimulated prune classifier.3 remain/total: 3988/4096\u001B[0m\n",
      "[2022-11-29 21:05:15] \u001B[32msimulated prune classifier.6 remain/total: 10/10\u001B[0m\n",
      "[2022-11-29 21:13:33] \u001B[32msimulated prune classifier.0 remain/total: 3578/4096\u001B[0m\n",
      "[2022-11-29 21:13:33] \u001B[32msimulated prune classifier.3 remain/total: 3961/4096\u001B[0m\n",
      "[2022-11-29 21:13:33] \u001B[32msimulated prune classifier.6 remain/total: 10/10\u001B[0m\n",
      "[2022-11-29 21:22:01] \u001B[32msimulated prune classifier.0 remain/total: 3531/4096\u001B[0m\n",
      "[2022-11-29 21:22:01] \u001B[32msimulated prune classifier.3 remain/total: 3925/4096\u001B[0m\n",
      "[2022-11-29 21:22:01] \u001B[32msimulated prune classifier.6 remain/total: 10/10\u001B[0m\n",
      "[2022-11-29 21:31:53] \u001B[32msimulated prune classifier.0 remain/total: 3473/4096\u001B[0m\n",
      "[2022-11-29 21:31:53] \u001B[32msimulated prune classifier.3 remain/total: 3887/4096\u001B[0m\n",
      "[2022-11-29 21:31:53] \u001B[32msimulated prune classifier.6 remain/total: 10/10\u001B[0m\n",
      "[2022-11-29 21:41:24] \u001B[32msimulated prune classifier.0 remain/total: 3423/4096\u001B[0m\n",
      "[2022-11-29 21:41:24] \u001B[32msimulated prune classifier.3 remain/total: 3844/4096\u001B[0m\n",
      "[2022-11-29 21:41:24] \u001B[32msimulated prune classifier.6 remain/total: 10/10\u001B[0m\n",
      "[2022-11-29 21:50:35] \u001B[32msimulated prune classifier.0 remain/total: 3350/4096\u001B[0m\n",
      "[2022-11-29 21:50:35] \u001B[32msimulated prune classifier.3 remain/total: 3769/4096\u001B[0m\n",
      "[2022-11-29 21:50:35] \u001B[32msimulated prune classifier.6 remain/total: 10/10\u001B[0m\n",
      "[2022-11-29 21:59:39] \u001B[32msimulated prune classifier.0 remain/total: 3181/4096\u001B[0m\n",
      "[2022-11-29 21:59:39] \u001B[32msimulated prune classifier.3 remain/total: 3681/4096\u001B[0m\n",
      "[2022-11-29 21:59:39] \u001B[32msimulated prune classifier.6 remain/total: 10/10\u001B[0m\n",
      "[2022-11-29 22:08:50] \u001B[32msimulated prune classifier.0 remain/total: 1894/4096\u001B[0m\n",
      "[2022-11-29 22:08:50] \u001B[32msimulated prune classifier.3 remain/total: 2810/4096\u001B[0m\n",
      "[2022-11-29 22:08:50] \u001B[32msimulated prune classifier.6 remain/total: 10/10\u001B[0m\n"
     ]
    }
   ],
   "source": [
    "from nni.algorithms.compression.v2.pytorch import TorchEvaluator\n",
    "from nni.algorithms.compression.v2.pytorch.pruning import LinearPruner\n",
    "\n",
    "optimizer_pruner = nni.trace(torch.optim.Adam)(model.parameters(), lr=1e-3)\n",
    "dummy_input = torch.rand(8, 32, 32).to(device)\n",
    "\n",
    "evaluator = TorchEvaluator(\n",
    "    training_func=training_func,\n",
    "    optimizers=optimizer_pruner,\n",
    "    criterion=torch.nn.CrossEntropyLoss(),\n",
    "    dummy_input=dummy_input)\n",
    "\n",
    "config_list = [{\n",
    "    \"sparsity\": 0.99,\n",
    "    \"op_types\": [\"Linear\"]\n",
    "}]\n",
    "\n",
    "model.to(pruning_device)\n",
    "\n",
    "itpruner = LinearPruner(\n",
    "    model,\n",
    "    config_list,\n",
    "    total_iteration=10,\n",
    "    pruning_algorithm=\"level\",\n",
    "    evaluator=evaluator,\n",
    "    log_dir=\".nni_log/\")\n",
    "\n",
    "itpruner.compress()"
   ],
   "metadata": {
    "collapsed": false
   }
  },
  {
   "cell_type": "code",
   "execution_count": 9,
   "outputs": [
    {
     "data": {
      "text/plain": "10"
     },
     "execution_count": 9,
     "metadata": {},
     "output_type": "execute_result"
    }
   ],
   "source": [
    "it, compressed_model, masks, *_ = itpruner.get_best_result()\n",
    "it"
   ],
   "metadata": {
    "collapsed": false
   }
  },
  {
   "cell_type": "code",
   "execution_count": 10,
   "outputs": [
    {
     "name": "stdout",
     "output_type": "stream",
     "text": [
      "Files already downloaded and verified\n"
     ]
    }
   ],
   "source": [
    "dataset_test = torchvision.datasets.CIFAR10(\".data\", download=True, train=False, transform=transform)\n",
    "dataloader_test = torch.utils.data.DataLoader(dataset, batch_size=16)"
   ],
   "metadata": {
    "collapsed": false
   }
  },
  {
   "cell_type": "code",
   "execution_count": 11,
   "outputs": [
    {
     "name": "stdout",
     "output_type": "stream",
     "text": [
      "Accuracy: 0.83724                  \n",
      "CPU times: user 1min 1s, sys: 56.3 ms, total: 1min 1s\n",
      "Wall time: 1min 1s\n"
     ]
    }
   ],
   "source": [
    "%%time\n",
    "torch.cuda.empty_cache()\n",
    "with torch.no_grad():\n",
    "    compressed_model.to(device)\n",
    "    correct = 0\n",
    "    all_so_far = 0\n",
    "    for inputs, labels in dataloader_test:\n",
    "        inputs, labels = inputs.to(device), labels.to(device)\n",
    "        pred = torch.argmax(compressed_model(inputs), dim=1)\n",
    "\n",
    "        all_so_far += labels.size().numel()\n",
    "        correct += torch.sum(pred.eq(labels))\n",
    "        print(f\"Accuracy so far: {correct/all_so_far:.5f}\", end=\"\\r\")\n",
    "print(f\"Accuracy: {correct/all_so_far:.5f}                  \")"
   ],
   "metadata": {
    "collapsed": false
   }
  },
  {
   "cell_type": "code",
   "execution_count": 12,
   "outputs": [
    {
     "data": {
      "text/plain": "tensor(0.9900, device='cuda:0')"
     },
     "execution_count": 12,
     "metadata": {},
     "output_type": "execute_result"
    }
   ],
   "source": [
    "torch.sum(compressed_model.classifier[0].weight.eq(0.0))/compressed_model.classifier[0].weight.size().numel()"
   ],
   "metadata": {
    "collapsed": false
   }
  },
  {
   "cell_type": "code",
   "execution_count": 13,
   "outputs": [
    {
     "data": {
      "text/plain": "Parameter containing:\ntensor([[-0.0000, -0.0000, 0.0090,  ..., -0.0000, 0.0000, 0.0000],\n        [0.0000, 0.0000, 0.0000,  ..., -0.0000, -0.0000, -0.0000],\n        [-0.0000, -0.0000, 0.0078,  ..., 0.0000, 0.0000, 0.0000],\n        ...,\n        [0.0089, -0.0000, -0.0000,  ..., -0.0000, -0.0000, -0.0000],\n        [0.0000, -0.0000, -0.0000,  ..., -0.0000, -0.0000, -0.0000],\n        [0.0000, 0.0000, 0.0000,  ..., 0.0000, -0.0000, 0.0000]],\n       device='cuda:0', requires_grad=True)"
     },
     "execution_count": 13,
     "metadata": {},
     "output_type": "execute_result"
    }
   ],
   "source": [
    "compressed_model.classifier[0].weight"
   ],
   "metadata": {
    "collapsed": false
   }
  },
  {
   "cell_type": "code",
   "execution_count": 14,
   "outputs": [
    {
     "data": {
      "text/plain": "VGG(\n  (features): Sequential(\n    (0): Conv2d(3, 64, kernel_size=(3, 3), stride=(1, 1), padding=(1, 1))\n    (1): BatchNorm2d(64, eps=1e-05, momentum=0.1, affine=True, track_running_stats=True)\n    (2): ReLU(inplace=True)\n    (3): MaxPool2d(kernel_size=2, stride=2, padding=0, dilation=1, ceil_mode=False)\n    (4): Conv2d(64, 128, kernel_size=(3, 3), stride=(1, 1), padding=(1, 1))\n    (5): BatchNorm2d(128, eps=1e-05, momentum=0.1, affine=True, track_running_stats=True)\n    (6): ReLU(inplace=True)\n    (7): MaxPool2d(kernel_size=2, stride=2, padding=0, dilation=1, ceil_mode=False)\n    (8): Conv2d(128, 256, kernel_size=(3, 3), stride=(1, 1), padding=(1, 1))\n    (9): BatchNorm2d(256, eps=1e-05, momentum=0.1, affine=True, track_running_stats=True)\n    (10): ReLU(inplace=True)\n    (11): Conv2d(256, 256, kernel_size=(3, 3), stride=(1, 1), padding=(1, 1))\n    (12): BatchNorm2d(256, eps=1e-05, momentum=0.1, affine=True, track_running_stats=True)\n    (13): ReLU(inplace=True)\n    (14): MaxPool2d(kernel_size=2, stride=2, padding=0, dilation=1, ceil_mode=False)\n    (15): Conv2d(256, 512, kernel_size=(3, 3), stride=(1, 1), padding=(1, 1))\n    (16): BatchNorm2d(512, eps=1e-05, momentum=0.1, affine=True, track_running_stats=True)\n    (17): ReLU(inplace=True)\n    (18): Conv2d(512, 512, kernel_size=(3, 3), stride=(1, 1), padding=(1, 1))\n    (19): BatchNorm2d(512, eps=1e-05, momentum=0.1, affine=True, track_running_stats=True)\n    (20): ReLU(inplace=True)\n    (21): MaxPool2d(kernel_size=2, stride=2, padding=0, dilation=1, ceil_mode=False)\n    (22): Conv2d(512, 512, kernel_size=(3, 3), stride=(1, 1), padding=(1, 1))\n    (23): BatchNorm2d(512, eps=1e-05, momentum=0.1, affine=True, track_running_stats=True)\n    (24): ReLU(inplace=True)\n    (25): Conv2d(512, 512, kernel_size=(3, 3), stride=(1, 1), padding=(1, 1))\n    (26): BatchNorm2d(512, eps=1e-05, momentum=0.1, affine=True, track_running_stats=True)\n    (27): ReLU(inplace=True)\n    (28): MaxPool2d(kernel_size=2, stride=2, padding=0, dilation=1, ceil_mode=False)\n  )\n  (avgpool): AdaptiveAvgPool2d(output_size=(1, 1))\n  (classifier): Sequential(\n    (0): Linear(in_features=512, out_features=4096, bias=True)\n    (1): ReLU(inplace=True)\n    (2): Dropout(p=0.5, inplace=False)\n    (3): Linear(in_features=4096, out_features=4096, bias=True)\n    (4): ReLU(inplace=True)\n    (5): Dropout(p=0.5, inplace=False)\n    (6): Linear(in_features=4096, out_features=10, bias=True)\n  )\n)"
     },
     "execution_count": 14,
     "metadata": {},
     "output_type": "execute_result"
    }
   ],
   "source": [
    "compressed_model"
   ],
   "metadata": {
    "collapsed": false
   }
  },
  {
   "cell_type": "code",
   "execution_count": 14,
   "outputs": [],
   "source": [],
   "metadata": {
    "collapsed": false
   }
  }
 ],
 "metadata": {
  "kernelspec": {
   "display_name": "Python 3",
   "language": "python",
   "name": "python3"
  },
  "language_info": {
   "codemirror_mode": {
    "name": "ipython",
    "version": 2
   },
   "file_extension": ".py",
   "mimetype": "text/x-python",
   "name": "python",
   "nbconvert_exporter": "python",
   "pygments_lexer": "ipython2",
   "version": "2.7.6"
  }
 },
 "nbformat": 4,
 "nbformat_minor": 0
}
