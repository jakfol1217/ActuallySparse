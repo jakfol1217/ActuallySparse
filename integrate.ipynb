{
 "cells": [
  {
   "cell_type": "code",
   "execution_count": 45,
   "outputs": [],
   "source": [
    "import torch\n",
    "import torchvision\n",
    "import pretrained\n",
    "import nni"
   ],
   "metadata": {
    "collapsed": false,
    "pycharm": {
     "name": "#%%\n"
    }
   }
  },
  {
   "cell_type": "code",
   "execution_count": 41,
   "outputs": [
    {
     "name": "stdout",
     "output_type": "stream",
     "text": [
      "Files already downloaded and verified\n"
     ]
    }
   ],
   "source": [
    "transform = torchvision.transforms.Compose([\n",
    "    torchvision.transforms.ToTensor(),\n",
    "    torchvision.transforms.Normalize((0.5, 0.5, 0.5), (0.5, 0.5, 0.5))\n",
    "])\n",
    "dataset = torchvision.datasets.CIFAR10(\".data\", download=True, transform=transform)\n",
    "dataloader = torch.utils.data.DataLoader(dataset, batch_size=8)"
   ],
   "metadata": {
    "collapsed": false,
    "pycharm": {
     "name": "#%%\n"
    }
   }
  },
  {
   "cell_type": "code",
   "execution_count": 42,
   "outputs": [],
   "source": [
    "model = pretrained.vgg11_bn()\n",
    "model.eval()\n",
    "None"
   ],
   "metadata": {
    "collapsed": false,
    "pycharm": {
     "name": "#%%\n"
    }
   }
  },
  {
   "cell_type": "code",
   "execution_count": 43,
   "outputs": [
    {
     "name": "stdout",
     "output_type": "stream",
     "text": [
      "tensor(30553)\r"
     ]
    },
    {
     "ename": "KeyboardInterrupt",
     "evalue": "",
     "output_type": "error",
     "traceback": [
      "\u001B[0;31m---------------------------------------------------------------------------\u001B[0m",
      "\u001B[0;31mKeyboardInterrupt\u001B[0m                         Traceback (most recent call last)",
      "File \u001B[0;32m<timed exec>:4\u001B[0m\n",
      "File \u001B[0;32m~/Pruning_Praca_Inzynierska/venv/lib/python3.10/site-packages/torch/nn/modules/module.py:1190\u001B[0m, in \u001B[0;36mModule._call_impl\u001B[0;34m(self, *input, **kwargs)\u001B[0m\n\u001B[1;32m   1186\u001B[0m \u001B[38;5;66;03m# If we don't have any hooks, we want to skip the rest of the logic in\u001B[39;00m\n\u001B[1;32m   1187\u001B[0m \u001B[38;5;66;03m# this function, and just call forward.\u001B[39;00m\n\u001B[1;32m   1188\u001B[0m \u001B[38;5;28;01mif\u001B[39;00m \u001B[38;5;129;01mnot\u001B[39;00m (\u001B[38;5;28mself\u001B[39m\u001B[38;5;241m.\u001B[39m_backward_hooks \u001B[38;5;129;01mor\u001B[39;00m \u001B[38;5;28mself\u001B[39m\u001B[38;5;241m.\u001B[39m_forward_hooks \u001B[38;5;129;01mor\u001B[39;00m \u001B[38;5;28mself\u001B[39m\u001B[38;5;241m.\u001B[39m_forward_pre_hooks \u001B[38;5;129;01mor\u001B[39;00m _global_backward_hooks\n\u001B[1;32m   1189\u001B[0m         \u001B[38;5;129;01mor\u001B[39;00m _global_forward_hooks \u001B[38;5;129;01mor\u001B[39;00m _global_forward_pre_hooks):\n\u001B[0;32m-> 1190\u001B[0m     \u001B[38;5;28;01mreturn\u001B[39;00m \u001B[43mforward_call\u001B[49m\u001B[43m(\u001B[49m\u001B[38;5;241;43m*\u001B[39;49m\u001B[38;5;28;43minput\u001B[39;49m\u001B[43m,\u001B[49m\u001B[43m \u001B[49m\u001B[38;5;241;43m*\u001B[39;49m\u001B[38;5;241;43m*\u001B[39;49m\u001B[43mkwargs\u001B[49m\u001B[43m)\u001B[49m\n\u001B[1;32m   1191\u001B[0m \u001B[38;5;66;03m# Do not call functions when jit is used\u001B[39;00m\n\u001B[1;32m   1192\u001B[0m full_backward_hooks, non_full_backward_hooks \u001B[38;5;241m=\u001B[39m [], []\n",
      "File \u001B[0;32m~/Pruning_Praca_Inzynierska/pretrained.py:25\u001B[0m, in \u001B[0;36mVGG.forward\u001B[0;34m(self, x)\u001B[0m\n\u001B[1;32m     24\u001B[0m \u001B[38;5;28;01mdef\u001B[39;00m \u001B[38;5;21mforward\u001B[39m(\u001B[38;5;28mself\u001B[39m, x):\n\u001B[0;32m---> 25\u001B[0m     x \u001B[38;5;241m=\u001B[39m \u001B[38;5;28;43mself\u001B[39;49m\u001B[38;5;241;43m.\u001B[39;49m\u001B[43mfeatures\u001B[49m\u001B[43m(\u001B[49m\u001B[43mx\u001B[49m\u001B[43m)\u001B[49m\n\u001B[1;32m     26\u001B[0m     x \u001B[38;5;241m=\u001B[39m \u001B[38;5;28mself\u001B[39m\u001B[38;5;241m.\u001B[39mavgpool(x)\n\u001B[1;32m     27\u001B[0m     x \u001B[38;5;241m=\u001B[39m x\u001B[38;5;241m.\u001B[39mview(x\u001B[38;5;241m.\u001B[39msize(\u001B[38;5;241m0\u001B[39m), \u001B[38;5;241m-\u001B[39m\u001B[38;5;241m1\u001B[39m)\n",
      "File \u001B[0;32m~/Pruning_Praca_Inzynierska/venv/lib/python3.10/site-packages/torch/nn/modules/module.py:1190\u001B[0m, in \u001B[0;36mModule._call_impl\u001B[0;34m(self, *input, **kwargs)\u001B[0m\n\u001B[1;32m   1186\u001B[0m \u001B[38;5;66;03m# If we don't have any hooks, we want to skip the rest of the logic in\u001B[39;00m\n\u001B[1;32m   1187\u001B[0m \u001B[38;5;66;03m# this function, and just call forward.\u001B[39;00m\n\u001B[1;32m   1188\u001B[0m \u001B[38;5;28;01mif\u001B[39;00m \u001B[38;5;129;01mnot\u001B[39;00m (\u001B[38;5;28mself\u001B[39m\u001B[38;5;241m.\u001B[39m_backward_hooks \u001B[38;5;129;01mor\u001B[39;00m \u001B[38;5;28mself\u001B[39m\u001B[38;5;241m.\u001B[39m_forward_hooks \u001B[38;5;129;01mor\u001B[39;00m \u001B[38;5;28mself\u001B[39m\u001B[38;5;241m.\u001B[39m_forward_pre_hooks \u001B[38;5;129;01mor\u001B[39;00m _global_backward_hooks\n\u001B[1;32m   1189\u001B[0m         \u001B[38;5;129;01mor\u001B[39;00m _global_forward_hooks \u001B[38;5;129;01mor\u001B[39;00m _global_forward_pre_hooks):\n\u001B[0;32m-> 1190\u001B[0m     \u001B[38;5;28;01mreturn\u001B[39;00m \u001B[43mforward_call\u001B[49m\u001B[43m(\u001B[49m\u001B[38;5;241;43m*\u001B[39;49m\u001B[38;5;28;43minput\u001B[39;49m\u001B[43m,\u001B[49m\u001B[43m \u001B[49m\u001B[38;5;241;43m*\u001B[39;49m\u001B[38;5;241;43m*\u001B[39;49m\u001B[43mkwargs\u001B[49m\u001B[43m)\u001B[49m\n\u001B[1;32m   1191\u001B[0m \u001B[38;5;66;03m# Do not call functions when jit is used\u001B[39;00m\n\u001B[1;32m   1192\u001B[0m full_backward_hooks, non_full_backward_hooks \u001B[38;5;241m=\u001B[39m [], []\n",
      "File \u001B[0;32m~/Pruning_Praca_Inzynierska/venv/lib/python3.10/site-packages/torch/nn/modules/container.py:204\u001B[0m, in \u001B[0;36mSequential.forward\u001B[0;34m(self, input)\u001B[0m\n\u001B[1;32m    202\u001B[0m \u001B[38;5;28;01mdef\u001B[39;00m \u001B[38;5;21mforward\u001B[39m(\u001B[38;5;28mself\u001B[39m, \u001B[38;5;28minput\u001B[39m):\n\u001B[1;32m    203\u001B[0m     \u001B[38;5;28;01mfor\u001B[39;00m module \u001B[38;5;129;01min\u001B[39;00m \u001B[38;5;28mself\u001B[39m:\n\u001B[0;32m--> 204\u001B[0m         \u001B[38;5;28minput\u001B[39m \u001B[38;5;241m=\u001B[39m \u001B[43mmodule\u001B[49m\u001B[43m(\u001B[49m\u001B[38;5;28;43minput\u001B[39;49m\u001B[43m)\u001B[49m\n\u001B[1;32m    205\u001B[0m     \u001B[38;5;28;01mreturn\u001B[39;00m \u001B[38;5;28minput\u001B[39m\n",
      "File \u001B[0;32m~/Pruning_Praca_Inzynierska/venv/lib/python3.10/site-packages/torch/nn/modules/module.py:1190\u001B[0m, in \u001B[0;36mModule._call_impl\u001B[0;34m(self, *input, **kwargs)\u001B[0m\n\u001B[1;32m   1186\u001B[0m \u001B[38;5;66;03m# If we don't have any hooks, we want to skip the rest of the logic in\u001B[39;00m\n\u001B[1;32m   1187\u001B[0m \u001B[38;5;66;03m# this function, and just call forward.\u001B[39;00m\n\u001B[1;32m   1188\u001B[0m \u001B[38;5;28;01mif\u001B[39;00m \u001B[38;5;129;01mnot\u001B[39;00m (\u001B[38;5;28mself\u001B[39m\u001B[38;5;241m.\u001B[39m_backward_hooks \u001B[38;5;129;01mor\u001B[39;00m \u001B[38;5;28mself\u001B[39m\u001B[38;5;241m.\u001B[39m_forward_hooks \u001B[38;5;129;01mor\u001B[39;00m \u001B[38;5;28mself\u001B[39m\u001B[38;5;241m.\u001B[39m_forward_pre_hooks \u001B[38;5;129;01mor\u001B[39;00m _global_backward_hooks\n\u001B[1;32m   1189\u001B[0m         \u001B[38;5;129;01mor\u001B[39;00m _global_forward_hooks \u001B[38;5;129;01mor\u001B[39;00m _global_forward_pre_hooks):\n\u001B[0;32m-> 1190\u001B[0m     \u001B[38;5;28;01mreturn\u001B[39;00m \u001B[43mforward_call\u001B[49m\u001B[43m(\u001B[49m\u001B[38;5;241;43m*\u001B[39;49m\u001B[38;5;28;43minput\u001B[39;49m\u001B[43m,\u001B[49m\u001B[43m \u001B[49m\u001B[38;5;241;43m*\u001B[39;49m\u001B[38;5;241;43m*\u001B[39;49m\u001B[43mkwargs\u001B[49m\u001B[43m)\u001B[49m\n\u001B[1;32m   1191\u001B[0m \u001B[38;5;66;03m# Do not call functions when jit is used\u001B[39;00m\n\u001B[1;32m   1192\u001B[0m full_backward_hooks, non_full_backward_hooks \u001B[38;5;241m=\u001B[39m [], []\n",
      "File \u001B[0;32m~/Pruning_Praca_Inzynierska/venv/lib/python3.10/site-packages/torch/nn/modules/conv.py:463\u001B[0m, in \u001B[0;36mConv2d.forward\u001B[0;34m(self, input)\u001B[0m\n\u001B[1;32m    462\u001B[0m \u001B[38;5;28;01mdef\u001B[39;00m \u001B[38;5;21mforward\u001B[39m(\u001B[38;5;28mself\u001B[39m, \u001B[38;5;28minput\u001B[39m: Tensor) \u001B[38;5;241m-\u001B[39m\u001B[38;5;241m>\u001B[39m Tensor:\n\u001B[0;32m--> 463\u001B[0m     \u001B[38;5;28;01mreturn\u001B[39;00m \u001B[38;5;28;43mself\u001B[39;49m\u001B[38;5;241;43m.\u001B[39;49m\u001B[43m_conv_forward\u001B[49m\u001B[43m(\u001B[49m\u001B[38;5;28;43minput\u001B[39;49m\u001B[43m,\u001B[49m\u001B[43m \u001B[49m\u001B[38;5;28;43mself\u001B[39;49m\u001B[38;5;241;43m.\u001B[39;49m\u001B[43mweight\u001B[49m\u001B[43m,\u001B[49m\u001B[43m \u001B[49m\u001B[38;5;28;43mself\u001B[39;49m\u001B[38;5;241;43m.\u001B[39;49m\u001B[43mbias\u001B[49m\u001B[43m)\u001B[49m\n",
      "File \u001B[0;32m~/Pruning_Praca_Inzynierska/venv/lib/python3.10/site-packages/torch/nn/modules/conv.py:459\u001B[0m, in \u001B[0;36mConv2d._conv_forward\u001B[0;34m(self, input, weight, bias)\u001B[0m\n\u001B[1;32m    455\u001B[0m \u001B[38;5;28;01mif\u001B[39;00m \u001B[38;5;28mself\u001B[39m\u001B[38;5;241m.\u001B[39mpadding_mode \u001B[38;5;241m!=\u001B[39m \u001B[38;5;124m'\u001B[39m\u001B[38;5;124mzeros\u001B[39m\u001B[38;5;124m'\u001B[39m:\n\u001B[1;32m    456\u001B[0m     \u001B[38;5;28;01mreturn\u001B[39;00m F\u001B[38;5;241m.\u001B[39mconv2d(F\u001B[38;5;241m.\u001B[39mpad(\u001B[38;5;28minput\u001B[39m, \u001B[38;5;28mself\u001B[39m\u001B[38;5;241m.\u001B[39m_reversed_padding_repeated_twice, mode\u001B[38;5;241m=\u001B[39m\u001B[38;5;28mself\u001B[39m\u001B[38;5;241m.\u001B[39mpadding_mode),\n\u001B[1;32m    457\u001B[0m                     weight, bias, \u001B[38;5;28mself\u001B[39m\u001B[38;5;241m.\u001B[39mstride,\n\u001B[1;32m    458\u001B[0m                     _pair(\u001B[38;5;241m0\u001B[39m), \u001B[38;5;28mself\u001B[39m\u001B[38;5;241m.\u001B[39mdilation, \u001B[38;5;28mself\u001B[39m\u001B[38;5;241m.\u001B[39mgroups)\n\u001B[0;32m--> 459\u001B[0m \u001B[38;5;28;01mreturn\u001B[39;00m \u001B[43mF\u001B[49m\u001B[38;5;241;43m.\u001B[39;49m\u001B[43mconv2d\u001B[49m\u001B[43m(\u001B[49m\u001B[38;5;28;43minput\u001B[39;49m\u001B[43m,\u001B[49m\u001B[43m \u001B[49m\u001B[43mweight\u001B[49m\u001B[43m,\u001B[49m\u001B[43m \u001B[49m\u001B[43mbias\u001B[49m\u001B[43m,\u001B[49m\u001B[43m \u001B[49m\u001B[38;5;28;43mself\u001B[39;49m\u001B[38;5;241;43m.\u001B[39;49m\u001B[43mstride\u001B[49m\u001B[43m,\u001B[49m\n\u001B[1;32m    460\u001B[0m \u001B[43m                \u001B[49m\u001B[38;5;28;43mself\u001B[39;49m\u001B[38;5;241;43m.\u001B[39;49m\u001B[43mpadding\u001B[49m\u001B[43m,\u001B[49m\u001B[43m \u001B[49m\u001B[38;5;28;43mself\u001B[39;49m\u001B[38;5;241;43m.\u001B[39;49m\u001B[43mdilation\u001B[49m\u001B[43m,\u001B[49m\u001B[43m \u001B[49m\u001B[38;5;28;43mself\u001B[39;49m\u001B[38;5;241;43m.\u001B[39;49m\u001B[43mgroups\u001B[49m\u001B[43m)\u001B[49m\n",
      "\u001B[0;31mKeyboardInterrupt\u001B[0m: "
     ]
    }
   ],
   "source": [
    "%%time\n",
    "with torch.no_grad():\n",
    "    correct = 0\n",
    "    for input, label in dataloader:\n",
    "        pred = torch.argmax(model(input), dim=1)\n",
    "        correct += torch.sum(pred == label)\n",
    "        print(correct, end=\"\\r\")\n",
    "correct"
   ],
   "metadata": {
    "collapsed": false,
    "pycharm": {
     "name": "#%%\n"
    }
   }
  },
  {
   "cell_type": "code",
   "execution_count": 31,
   "outputs": [
    {
     "data": {
      "text/plain": "0.99434"
     },
     "execution_count": 31,
     "metadata": {},
     "output_type": "execute_result"
    }
   ],
   "source": [
    "49717/50000"
   ],
   "metadata": {
    "collapsed": false,
    "pycharm": {
     "name": "#%%\n"
    }
   }
  },
  {
   "cell_type": "code",
   "execution_count": 48,
   "outputs": [],
   "source": [
    "def training_func(model, optimizers, criterion, lr_schedulers, max_steps, max_epochs, *_, **__):\n",
    "    model.train()\n",
    "    total_epochs = max_epochs if max_epochs else 10\n",
    "    total_steps = max_steps if max_steps else 100\n",
    "    current_step = 0\n",
    "\n",
    "    for epoch in range(total_epochs):\n",
    "        print(f\"Epoch {epoch}\")\n",
    "        for inputs, labels in dataloader:\n",
    "            optimizers.zero_grad()\n",
    "            loss = criterion(model(inputs), labels)\n",
    "            loss.backward()\n",
    "            optimizers.step()\n",
    "\n",
    "            current_step += 1\n",
    "            if current_step >= total_steps:\n",
    "                return\n",
    "        lr_schedulers.step()"
   ],
   "metadata": {
    "collapsed": false,
    "pycharm": {
     "name": "#%%\n"
    }
   }
  },
  {
   "cell_type": "code",
   "execution_count": 49,
   "outputs": [
    {
     "name": "stdout",
     "output_type": "stream",
     "text": [
      "[2022-11-29 15:16:39] \u001B[33mWARNING: This compressor is not set model and config_list, waiting for reset() or pass this to scheduler.\u001B[0m\n",
      "[2022-11-29 15:16:43] \u001B[32msimulated prune classifier.0 remain/total: 4096/4096\u001B[0m\n",
      "[2022-11-29 15:16:43] \u001B[32msimulated prune classifier.3 remain/total: 4096/4096\u001B[0m\n",
      "[2022-11-29 15:16:43] \u001B[32msimulated prune classifier.6 remain/total: 10/10\u001B[0m\n",
      "Epoch 0\n",
      "[2022-11-29 15:17:20] \u001B[32msimulated prune classifier.0 remain/total: 4096/4096\u001B[0m\n",
      "[2022-11-29 15:17:20] \u001B[32msimulated prune classifier.3 remain/total: 4096/4096\u001B[0m\n",
      "[2022-11-29 15:17:20] \u001B[32msimulated prune classifier.6 remain/total: 10/10\u001B[0m\n",
      "Epoch 0\n",
      "[2022-11-29 15:17:58] \u001B[32msimulated prune classifier.0 remain/total: 3796/4096\u001B[0m\n",
      "[2022-11-29 15:17:58] \u001B[32msimulated prune classifier.3 remain/total: 4096/4096\u001B[0m\n",
      "[2022-11-29 15:17:58] \u001B[32msimulated prune classifier.6 remain/total: 10/10\u001B[0m\n",
      "Epoch 0\n",
      "[2022-11-29 15:18:36] \u001B[32msimulated prune classifier.0 remain/total: 3739/4096\u001B[0m\n",
      "[2022-11-29 15:18:36] \u001B[32msimulated prune classifier.3 remain/total: 4034/4096\u001B[0m\n",
      "[2022-11-29 15:18:36] \u001B[32msimulated prune classifier.6 remain/total: 10/10\u001B[0m\n",
      "Epoch 0\n",
      "[2022-11-29 15:19:18] \u001B[32msimulated prune classifier.0 remain/total: 3702/4096\u001B[0m\n",
      "[2022-11-29 15:19:18] \u001B[32msimulated prune classifier.3 remain/total: 4019/4096\u001B[0m\n",
      "[2022-11-29 15:19:18] \u001B[32msimulated prune classifier.6 remain/total: 10/10\u001B[0m\n",
      "Epoch 0\n",
      "[2022-11-29 15:19:57] \u001B[32msimulated prune classifier.0 remain/total: 3669/4096\u001B[0m\n",
      "[2022-11-29 15:19:57] \u001B[32msimulated prune classifier.3 remain/total: 4003/4096\u001B[0m\n",
      "[2022-11-29 15:19:57] \u001B[32msimulated prune classifier.6 remain/total: 10/10\u001B[0m\n",
      "Epoch 0\n",
      "[2022-11-29 15:20:34] \u001B[32msimulated prune classifier.0 remain/total: 3630/4096\u001B[0m\n",
      "[2022-11-29 15:20:34] \u001B[32msimulated prune classifier.3 remain/total: 3987/4096\u001B[0m\n",
      "[2022-11-29 15:20:34] \u001B[32msimulated prune classifier.6 remain/total: 10/10\u001B[0m\n",
      "Epoch 0\n",
      "[2022-11-29 15:21:11] \u001B[32msimulated prune classifier.0 remain/total: 3593/4096\u001B[0m\n",
      "[2022-11-29 15:21:11] \u001B[32msimulated prune classifier.3 remain/total: 3976/4096\u001B[0m\n",
      "[2022-11-29 15:21:11] \u001B[32msimulated prune classifier.6 remain/total: 10/10\u001B[0m\n",
      "Epoch 0\n",
      "[2022-11-29 15:21:48] \u001B[32msimulated prune classifier.0 remain/total: 3575/4096\u001B[0m\n",
      "[2022-11-29 15:21:48] \u001B[32msimulated prune classifier.3 remain/total: 3961/4096\u001B[0m\n",
      "[2022-11-29 15:21:48] \u001B[32msimulated prune classifier.6 remain/total: 10/10\u001B[0m\n",
      "Epoch 0\n",
      "[2022-11-29 15:22:25] \u001B[32msimulated prune classifier.0 remain/total: 3550/4096\u001B[0m\n",
      "[2022-11-29 15:22:25] \u001B[32msimulated prune classifier.3 remain/total: 3941/4096\u001B[0m\n",
      "[2022-11-29 15:22:25] \u001B[32msimulated prune classifier.6 remain/total: 10/10\u001B[0m\n",
      "Epoch 0\n",
      "[2022-11-29 15:23:04] \u001B[32msimulated prune classifier.0 remain/total: 3528/4096\u001B[0m\n",
      "[2022-11-29 15:23:04] \u001B[32msimulated prune classifier.3 remain/total: 3925/4096\u001B[0m\n",
      "[2022-11-29 15:23:04] \u001B[32msimulated prune classifier.6 remain/total: 10/10\u001B[0m\n",
      "Epoch 0\n"
     ]
    }
   ],
   "source": [
    "from nni.algorithms.compression.v2.pytorch import TorchEvaluator\n",
    "from nni.algorithms.compression.v2.pytorch.pruning import LinearPruner\n",
    "\n",
    "optimizer_pruner = nni.trace(torch.optim.Adam)(model.parameters(), lr=1e-3)\n",
    "dummy_input = torch.rand(8, 32, 32)\n",
    "\n",
    "evaluator = TorchEvaluator(\n",
    "    training_func=training_func,\n",
    "    optimizers=optimizer_pruner,\n",
    "    criterion=torch.nn.CrossEntropyLoss(),\n",
    "    dummy_input=dummy_input)\n",
    "\n",
    "config_list = [{\n",
    "    \"sparsity\": 0.5,\n",
    "    \"op_types\": [\"Linear\"]\n",
    "}]\n",
    "itpruner = LinearPruner(\n",
    "    model,\n",
    "    config_list,\n",
    "    total_iteration=10,\n",
    "    pruning_algorithm=\"level\",\n",
    "    evaluator=evaluator,\n",
    "    log_dir=\".nni_log/\")\n",
    "\n",
    "itpruner.compress()"
   ],
   "metadata": {
    "collapsed": false,
    "pycharm": {
     "name": "#%%\n"
    }
   }
  },
  {
   "cell_type": "code",
   "execution_count": 50,
   "outputs": [
    {
     "data": {
      "text/plain": "10"
     },
     "execution_count": 50,
     "metadata": {},
     "output_type": "execute_result"
    }
   ],
   "source": [
    "it, compressed_model, masks, *_ = itpruner.get_best_result()\n",
    "it"
   ],
   "metadata": {
    "collapsed": false,
    "pycharm": {
     "name": "#%%\n"
    }
   }
  },
  {
   "cell_type": "code",
   "execution_count": 51,
   "outputs": [
    {
     "name": "stdout",
     "output_type": "stream",
     "text": [
      "CPU times: user 20min 34s, sys: 946 ms, total: 20min 35s\n",
      "Wall time: 5min 8s\n"
     ]
    },
    {
     "data": {
      "text/plain": "tensor(0.3371)"
     },
     "execution_count": 51,
     "metadata": {},
     "output_type": "execute_result"
    }
   ],
   "source": [
    "%%time\n",
    "correct = 0\n",
    "with torch.no_grad():\n",
    "    for input, label in dataloader:\n",
    "        pred = torch.argmax(compressed_model(input), dim=1)\n",
    "        correct += torch.sum(pred == label)\n",
    "        print(correct, end=\"\\r\")\n",
    "correct/50_000"
   ],
   "metadata": {
    "collapsed": false,
    "pycharm": {
     "name": "#%%\n"
    }
   }
  },
  {
   "cell_type": "code",
   "execution_count": null,
   "outputs": [],
   "source": [],
   "metadata": {
    "collapsed": false,
    "pycharm": {
     "name": "#%%\n"
    }
   }
  }
 ],
 "metadata": {
  "kernelspec": {
   "display_name": "Python 3",
   "language": "python",
   "name": "python3"
  },
  "language_info": {
   "codemirror_mode": {
    "name": "ipython",
    "version": 2
   },
   "file_extension": ".py",
   "mimetype": "text/x-python",
   "name": "python",
   "nbconvert_exporter": "python",
   "pygments_lexer": "ipython2",
   "version": "2.7.6"
  }
 },
 "nbformat": 4,
 "nbformat_minor": 0
}