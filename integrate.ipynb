{
 "cells": [
  {
   "cell_type": "code",
   "execution_count": 1,
   "outputs": [],
   "source": [
    "import torch\n",
    "import torchvision\n",
    "import pretrained\n",
    "import nni"
   ],
   "metadata": {
    "collapsed": false
   }
  },
  {
   "cell_type": "code",
   "execution_count": 2,
   "outputs": [
    {
     "name": "stdout",
     "output_type": "stream",
     "text": [
      "Files already downloaded and verified\n"
     ]
    }
   ],
   "source": [
    "transform = torchvision.transforms.Compose([\n",
    "    torchvision.transforms.ToTensor(),\n",
    "    torchvision.transforms.Normalize((0.5, 0.5, 0.5), (0.5, 0.5, 0.5))\n",
    "])\n",
    "dataset = torchvision.datasets.CIFAR10(\".data\", download=True, transform=transform)\n",
    "dataloader = torch.utils.data.DataLoader(dataset, batch_size=16)"
   ],
   "metadata": {
    "collapsed": false
   }
  },
  {
   "cell_type": "code",
   "execution_count": 3,
   "outputs": [],
   "source": [
    "device = \"cuda\" if torch.cuda.is_available() else \"cpu\""
   ],
   "metadata": {
    "collapsed": false
   }
  },
  {
   "cell_type": "code",
   "execution_count": 4,
   "outputs": [],
   "source": [
    "model = pretrained.vgg11_bn(device=device)\n",
    "model.eval()\n",
    "model.to(\"cpu\")\n",
    "None"
   ],
   "metadata": {
    "collapsed": false
   }
  },
  {
   "cell_type": "code",
   "execution_count": 19,
   "outputs": [
    {
     "name": "stdout",
     "output_type": "stream",
     "text": [
      "Accuracy: 0.91r: 0.91\n",
      "CPU times: user 56.3 s, sys: 139 ms, total: 56.4 s\n",
      "Wall time: 56.4 s\n"
     ]
    }
   ],
   "source": [
    "# %%time\n",
    "# with torch.no_grad():\n",
    "#     correct = 0\n",
    "#     all_so_far = 0\n",
    "#     for inputs, labels in dataloader:\n",
    "#         inputs, labels = inputs.to(device), labels.to(device)\n",
    "#         pred = torch.argmax(model(inputs), dim=1)\n",
    "#\n",
    "#         all_so_far += labels.size().numel()\n",
    "#         correct += torch.sum(pred.eq(labels))\n",
    "#         print(f\"Accuracy so far: {correct/all_so_far:.2f}\", end=\"\\r\")\n",
    "# print(f\"Accuracy: {correct/all_so_far:.2f}\")"
   ],
   "metadata": {
    "collapsed": false
   }
  },
  {
   "cell_type": "code",
   "execution_count": 9,
   "outputs": [],
   "source": [
    "def training_func(model, optimizers, criterion, *_args, **_kwargs):\n",
    "    model.train()\n",
    "    model.to(\"cuda\")\n",
    "    for epoch in range(1):\n",
    "        print(f\"Epoch {epoch}\")\n",
    "        torch.cuda.empty_cache()\n",
    "        for inputs, labels in dataloader:\n",
    "            inputs, labels = inputs.to(device), labels.to(device)\n",
    "            optimizers.zero_grad()\n",
    "            loss = criterion(model(inputs), labels)\n",
    "            loss.backward()\n",
    "            optimizers.step()\n",
    "    model.to(\"cpu\")"
   ],
   "metadata": {
    "collapsed": false
   }
  },
  {
   "cell_type": "code",
   "execution_count": 10,
   "outputs": [],
   "source": [
    "torch.cuda.empty_cache()"
   ],
   "metadata": {
    "collapsed": false
   }
  },
  {
   "cell_type": "code",
   "execution_count": 11,
   "outputs": [
    {
     "name": "stdout",
     "output_type": "stream",
     "text": [
      "[2022-11-29 17:21:44] \u001B[33mWARNING: This compressor is not set model and config_list, waiting for reset() or pass this to scheduler.\u001B[0m\n",
      "[2022-11-29 17:21:49] \u001B[32msimulated prune classifier.0 remain/total: 4096/4096\u001B[0m\n",
      "[2022-11-29 17:21:49] \u001B[32msimulated prune classifier.3 remain/total: 4096/4096\u001B[0m\n",
      "[2022-11-29 17:21:49] \u001B[32msimulated prune classifier.6 remain/total: 10/10\u001B[0m\n",
      "Epoch 0\n",
      "[2022-11-29 17:24:52] \u001B[32msimulated prune classifier.0 remain/total: 4096/4096\u001B[0m\n",
      "[2022-11-29 17:24:52] \u001B[32msimulated prune classifier.3 remain/total: 4096/4096\u001B[0m\n",
      "[2022-11-29 17:24:52] \u001B[32msimulated prune classifier.6 remain/total: 10/10\u001B[0m\n",
      "Epoch 0\n",
      "[2022-11-29 17:27:51] \u001B[32msimulated prune classifier.0 remain/total: 3796/4096\u001B[0m\n",
      "[2022-11-29 17:27:51] \u001B[32msimulated prune classifier.3 remain/total: 4096/4096\u001B[0m\n",
      "[2022-11-29 17:27:51] \u001B[32msimulated prune classifier.6 remain/total: 10/10\u001B[0m\n",
      "Epoch 0\n",
      "[2022-11-29 17:31:02] \u001B[32msimulated prune classifier.0 remain/total: 3739/4096\u001B[0m\n",
      "[2022-11-29 17:31:03] \u001B[32msimulated prune classifier.3 remain/total: 4034/4096\u001B[0m\n",
      "[2022-11-29 17:31:03] \u001B[32msimulated prune classifier.6 remain/total: 10/10\u001B[0m\n",
      "Epoch 0\n",
      "[2022-11-29 17:34:08] \u001B[32msimulated prune classifier.0 remain/total: 3702/4096\u001B[0m\n",
      "[2022-11-29 17:34:08] \u001B[32msimulated prune classifier.3 remain/total: 4019/4096\u001B[0m\n",
      "[2022-11-29 17:34:08] \u001B[32msimulated prune classifier.6 remain/total: 10/10\u001B[0m\n",
      "Epoch 0\n",
      "[2022-11-29 17:37:13] \u001B[32msimulated prune classifier.0 remain/total: 3669/4096\u001B[0m\n",
      "[2022-11-29 17:37:13] \u001B[32msimulated prune classifier.3 remain/total: 4003/4096\u001B[0m\n",
      "[2022-11-29 17:37:13] \u001B[32msimulated prune classifier.6 remain/total: 10/10\u001B[0m\n",
      "Epoch 0\n",
      "[2022-11-29 17:40:21] \u001B[32msimulated prune classifier.0 remain/total: 3630/4096\u001B[0m\n",
      "[2022-11-29 17:40:21] \u001B[32msimulated prune classifier.3 remain/total: 3987/4096\u001B[0m\n",
      "[2022-11-29 17:40:21] \u001B[32msimulated prune classifier.6 remain/total: 10/10\u001B[0m\n",
      "Epoch 0\n",
      "[2022-11-29 17:43:28] \u001B[32msimulated prune classifier.0 remain/total: 3593/4096\u001B[0m\n",
      "[2022-11-29 17:43:28] \u001B[32msimulated prune classifier.3 remain/total: 3976/4096\u001B[0m\n",
      "[2022-11-29 17:43:28] \u001B[32msimulated prune classifier.6 remain/total: 10/10\u001B[0m\n",
      "Epoch 0\n",
      "[2022-11-29 17:46:38] \u001B[32msimulated prune classifier.0 remain/total: 3575/4096\u001B[0m\n",
      "[2022-11-29 17:46:38] \u001B[32msimulated prune classifier.3 remain/total: 3961/4096\u001B[0m\n",
      "[2022-11-29 17:46:38] \u001B[32msimulated prune classifier.6 remain/total: 10/10\u001B[0m\n",
      "Epoch 0\n",
      "[2022-11-29 17:49:50] \u001B[32msimulated prune classifier.0 remain/total: 3550/4096\u001B[0m\n",
      "[2022-11-29 17:49:50] \u001B[32msimulated prune classifier.3 remain/total: 3941/4096\u001B[0m\n",
      "[2022-11-29 17:49:50] \u001B[32msimulated prune classifier.6 remain/total: 10/10\u001B[0m\n",
      "Epoch 0\n",
      "[2022-11-29 17:53:17] \u001B[32msimulated prune classifier.0 remain/total: 3528/4096\u001B[0m\n",
      "[2022-11-29 17:53:17] \u001B[32msimulated prune classifier.3 remain/total: 3925/4096\u001B[0m\n",
      "[2022-11-29 17:53:17] \u001B[32msimulated prune classifier.6 remain/total: 10/10\u001B[0m\n",
      "Epoch 0\n"
     ]
    }
   ],
   "source": [
    "from nni.algorithms.compression.v2.pytorch import TorchEvaluator\n",
    "from nni.algorithms.compression.v2.pytorch.pruning import LinearPruner\n",
    "\n",
    "optimizer_pruner = nni.trace(torch.optim.Adam)(model.parameters(), lr=1e-3)\n",
    "dummy_input = torch.rand(8, 32, 32).to(device)\n",
    "\n",
    "evaluator = TorchEvaluator(\n",
    "    training_func=training_func,\n",
    "    optimizers=optimizer_pruner,\n",
    "    criterion=torch.nn.CrossEntropyLoss(),\n",
    "    dummy_input=dummy_input)\n",
    "\n",
    "config_list = [{\n",
    "    \"sparsity\": 0.5,\n",
    "    \"op_types\": [\"Linear\"]\n",
    "}]\n",
    "itpruner = LinearPruner(\n",
    "    model,\n",
    "    config_list,\n",
    "    total_iteration=10,\n",
    "    pruning_algorithm=\"level\",\n",
    "    evaluator=evaluator,\n",
    "    log_dir=\".nni_log/\")\n",
    "\n",
    "itpruner.compress()"
   ],
   "metadata": {
    "collapsed": false
   }
  },
  {
   "cell_type": "code",
   "execution_count": 12,
   "outputs": [
    {
     "data": {
      "text/plain": "10"
     },
     "execution_count": 12,
     "metadata": {},
     "output_type": "execute_result"
    }
   ],
   "source": [
    "it, compressed_model, masks, *_ = itpruner.get_best_result()\n",
    "it"
   ],
   "metadata": {
    "collapsed": false
   }
  },
  {
   "cell_type": "code",
   "execution_count": 15,
   "outputs": [
    {
     "name": "stdout",
     "output_type": "stream",
     "text": [
      "Files already downloaded and verified\n"
     ]
    }
   ],
   "source": [
    "dataset_test = torchvision.datasets.CIFAR10(\".data\", download=True, train=False, transform=transform)\n",
    "dataloader_test = torch.utils.data.DataLoader(dataset, batch_size=16)"
   ],
   "metadata": {
    "collapsed": false
   }
  },
  {
   "cell_type": "code",
   "execution_count": 16,
   "outputs": [
    {
     "name": "stdout",
     "output_type": "stream",
     "text": [
      "Accuracy: 0.96                  \n",
      "CPU times: user 1min 4s, sys: 32.1 ms, total: 1min 4s\n",
      "Wall time: 1min 4s\n"
     ]
    }
   ],
   "source": [
    "%%time\n",
    "torch.cuda.empty_cache()\n",
    "with torch.no_grad():\n",
    "    compressed_model.to(device)\n",
    "    correct = 0\n",
    "    all_so_far = 0\n",
    "    for inputs, labels in dataloader_test:\n",
    "        inputs, labels = inputs.to(device), labels.to(device)\n",
    "        pred = torch.argmax(compressed_model(inputs), dim=1)\n",
    "\n",
    "        all_so_far += labels.size().numel()\n",
    "        correct += torch.sum(pred.eq(labels))\n",
    "        print(f\"Accuracy so far: {correct/all_so_far:.2f}\", end=\"\\r\")\n",
    "print(f\"Accuracy: {correct/all_so_far:.2f}                  \")"
   ],
   "metadata": {
    "collapsed": false
   }
  },
  {
   "cell_type": "code",
   "execution_count": 24,
   "outputs": [
    {
     "data": {
      "text/plain": "tensor(0.5000, device='cuda:0')"
     },
     "execution_count": 24,
     "metadata": {},
     "output_type": "execute_result"
    }
   ],
   "source": [
    "torch.sum(compressed_model.classifier[0].weight.eq(0.0))/compressed_model.classifier[0].weight.size().numel()"
   ],
   "metadata": {
    "collapsed": false
   }
  },
  {
   "cell_type": "code",
   "execution_count": null,
   "outputs": [],
   "source": [],
   "metadata": {
    "collapsed": false
   }
  }
 ],
 "metadata": {
  "kernelspec": {
   "display_name": "Python 3",
   "language": "python",
   "name": "python3"
  },
  "language_info": {
   "codemirror_mode": {
    "name": "ipython",
    "version": 2
   },
   "file_extension": ".py",
   "mimetype": "text/x-python",
   "name": "python",
   "nbconvert_exporter": "python",
   "pygments_lexer": "ipython2",
   "version": "2.7.6"
  }
 },
 "nbformat": 4,
 "nbformat_minor": 0
}
